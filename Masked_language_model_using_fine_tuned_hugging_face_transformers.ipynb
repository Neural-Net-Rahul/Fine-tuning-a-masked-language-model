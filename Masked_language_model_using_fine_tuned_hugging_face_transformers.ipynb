{
  "nbformat": 4,
  "nbformat_minor": 0,
  "metadata": {
    "colab": {
      "provenance": [],
      "gpuType": "T4"
    },
    "kernelspec": {
      "name": "python3",
      "display_name": "Python 3"
    },
    "language_info": {
      "name": "python"
    },
    "accelerator": "GPU",
    "widgets": {
      "application/vnd.jupyter.widget-state+json": {
        "46f57173d66741e5877dbab9ba2eb3e1": {
          "model_module": "@jupyter-widgets/controls",
          "model_name": "HBoxModel",
          "model_module_version": "1.5.0",
          "state": {
            "_dom_classes": [],
            "_model_module": "@jupyter-widgets/controls",
            "_model_module_version": "1.5.0",
            "_model_name": "HBoxModel",
            "_view_count": null,
            "_view_module": "@jupyter-widgets/controls",
            "_view_module_version": "1.5.0",
            "_view_name": "HBoxView",
            "box_style": "",
            "children": [
              "IPY_MODEL_82c86073d42c4de483992f6343cee1b7",
              "IPY_MODEL_3e8645fa037647bcaf69308145beab09",
              "IPY_MODEL_f5c9a8de2eb540de87de9c0668d71e74"
            ],
            "layout": "IPY_MODEL_692777dbf07e484398bb5b69d17c7f3b"
          }
        },
        "82c86073d42c4de483992f6343cee1b7": {
          "model_module": "@jupyter-widgets/controls",
          "model_name": "HTMLModel",
          "model_module_version": "1.5.0",
          "state": {
            "_dom_classes": [],
            "_model_module": "@jupyter-widgets/controls",
            "_model_module_version": "1.5.0",
            "_model_name": "HTMLModel",
            "_view_count": null,
            "_view_module": "@jupyter-widgets/controls",
            "_view_module_version": "1.5.0",
            "_view_name": "HTMLView",
            "description": "",
            "description_tooltip": null,
            "layout": "IPY_MODEL_892c40dcf73d4729a594416110b5eada",
            "placeholder": "​",
            "style": "IPY_MODEL_14f111b7c72b4d8e952f79ab3e589624",
            "value": "Map: 100%"
          }
        },
        "3e8645fa037647bcaf69308145beab09": {
          "model_module": "@jupyter-widgets/controls",
          "model_name": "FloatProgressModel",
          "model_module_version": "1.5.0",
          "state": {
            "_dom_classes": [],
            "_model_module": "@jupyter-widgets/controls",
            "_model_module_version": "1.5.0",
            "_model_name": "FloatProgressModel",
            "_view_count": null,
            "_view_module": "@jupyter-widgets/controls",
            "_view_module_version": "1.5.0",
            "_view_name": "ProgressView",
            "bar_style": "success",
            "description": "",
            "description_tooltip": null,
            "layout": "IPY_MODEL_b3d7e5e75b4d41d18702bd2a3de57789",
            "max": 50000,
            "min": 0,
            "orientation": "horizontal",
            "style": "IPY_MODEL_a5514079502148acb7da2fcf285ea133",
            "value": 50000
          }
        },
        "f5c9a8de2eb540de87de9c0668d71e74": {
          "model_module": "@jupyter-widgets/controls",
          "model_name": "HTMLModel",
          "model_module_version": "1.5.0",
          "state": {
            "_dom_classes": [],
            "_model_module": "@jupyter-widgets/controls",
            "_model_module_version": "1.5.0",
            "_model_name": "HTMLModel",
            "_view_count": null,
            "_view_module": "@jupyter-widgets/controls",
            "_view_module_version": "1.5.0",
            "_view_name": "HTMLView",
            "description": "",
            "description_tooltip": null,
            "layout": "IPY_MODEL_6e252f597e1547aeb06837ecfbdb1441",
            "placeholder": "​",
            "style": "IPY_MODEL_3cc32b5804bc4335afd86f42da9ac1da",
            "value": " 50000/50000 [01:05&lt;00:00, 1055.27 examples/s]"
          }
        },
        "692777dbf07e484398bb5b69d17c7f3b": {
          "model_module": "@jupyter-widgets/base",
          "model_name": "LayoutModel",
          "model_module_version": "1.2.0",
          "state": {
            "_model_module": "@jupyter-widgets/base",
            "_model_module_version": "1.2.0",
            "_model_name": "LayoutModel",
            "_view_count": null,
            "_view_module": "@jupyter-widgets/base",
            "_view_module_version": "1.2.0",
            "_view_name": "LayoutView",
            "align_content": null,
            "align_items": null,
            "align_self": null,
            "border": null,
            "bottom": null,
            "display": null,
            "flex": null,
            "flex_flow": null,
            "grid_area": null,
            "grid_auto_columns": null,
            "grid_auto_flow": null,
            "grid_auto_rows": null,
            "grid_column": null,
            "grid_gap": null,
            "grid_row": null,
            "grid_template_areas": null,
            "grid_template_columns": null,
            "grid_template_rows": null,
            "height": null,
            "justify_content": null,
            "justify_items": null,
            "left": null,
            "margin": null,
            "max_height": null,
            "max_width": null,
            "min_height": null,
            "min_width": null,
            "object_fit": null,
            "object_position": null,
            "order": null,
            "overflow": null,
            "overflow_x": null,
            "overflow_y": null,
            "padding": null,
            "right": null,
            "top": null,
            "visibility": null,
            "width": null
          }
        },
        "892c40dcf73d4729a594416110b5eada": {
          "model_module": "@jupyter-widgets/base",
          "model_name": "LayoutModel",
          "model_module_version": "1.2.0",
          "state": {
            "_model_module": "@jupyter-widgets/base",
            "_model_module_version": "1.2.0",
            "_model_name": "LayoutModel",
            "_view_count": null,
            "_view_module": "@jupyter-widgets/base",
            "_view_module_version": "1.2.0",
            "_view_name": "LayoutView",
            "align_content": null,
            "align_items": null,
            "align_self": null,
            "border": null,
            "bottom": null,
            "display": null,
            "flex": null,
            "flex_flow": null,
            "grid_area": null,
            "grid_auto_columns": null,
            "grid_auto_flow": null,
            "grid_auto_rows": null,
            "grid_column": null,
            "grid_gap": null,
            "grid_row": null,
            "grid_template_areas": null,
            "grid_template_columns": null,
            "grid_template_rows": null,
            "height": null,
            "justify_content": null,
            "justify_items": null,
            "left": null,
            "margin": null,
            "max_height": null,
            "max_width": null,
            "min_height": null,
            "min_width": null,
            "object_fit": null,
            "object_position": null,
            "order": null,
            "overflow": null,
            "overflow_x": null,
            "overflow_y": null,
            "padding": null,
            "right": null,
            "top": null,
            "visibility": null,
            "width": null
          }
        },
        "14f111b7c72b4d8e952f79ab3e589624": {
          "model_module": "@jupyter-widgets/controls",
          "model_name": "DescriptionStyleModel",
          "model_module_version": "1.5.0",
          "state": {
            "_model_module": "@jupyter-widgets/controls",
            "_model_module_version": "1.5.0",
            "_model_name": "DescriptionStyleModel",
            "_view_count": null,
            "_view_module": "@jupyter-widgets/base",
            "_view_module_version": "1.2.0",
            "_view_name": "StyleView",
            "description_width": ""
          }
        },
        "b3d7e5e75b4d41d18702bd2a3de57789": {
          "model_module": "@jupyter-widgets/base",
          "model_name": "LayoutModel",
          "model_module_version": "1.2.0",
          "state": {
            "_model_module": "@jupyter-widgets/base",
            "_model_module_version": "1.2.0",
            "_model_name": "LayoutModel",
            "_view_count": null,
            "_view_module": "@jupyter-widgets/base",
            "_view_module_version": "1.2.0",
            "_view_name": "LayoutView",
            "align_content": null,
            "align_items": null,
            "align_self": null,
            "border": null,
            "bottom": null,
            "display": null,
            "flex": null,
            "flex_flow": null,
            "grid_area": null,
            "grid_auto_columns": null,
            "grid_auto_flow": null,
            "grid_auto_rows": null,
            "grid_column": null,
            "grid_gap": null,
            "grid_row": null,
            "grid_template_areas": null,
            "grid_template_columns": null,
            "grid_template_rows": null,
            "height": null,
            "justify_content": null,
            "justify_items": null,
            "left": null,
            "margin": null,
            "max_height": null,
            "max_width": null,
            "min_height": null,
            "min_width": null,
            "object_fit": null,
            "object_position": null,
            "order": null,
            "overflow": null,
            "overflow_x": null,
            "overflow_y": null,
            "padding": null,
            "right": null,
            "top": null,
            "visibility": null,
            "width": null
          }
        },
        "a5514079502148acb7da2fcf285ea133": {
          "model_module": "@jupyter-widgets/controls",
          "model_name": "ProgressStyleModel",
          "model_module_version": "1.5.0",
          "state": {
            "_model_module": "@jupyter-widgets/controls",
            "_model_module_version": "1.5.0",
            "_model_name": "ProgressStyleModel",
            "_view_count": null,
            "_view_module": "@jupyter-widgets/base",
            "_view_module_version": "1.2.0",
            "_view_name": "StyleView",
            "bar_color": null,
            "description_width": ""
          }
        },
        "6e252f597e1547aeb06837ecfbdb1441": {
          "model_module": "@jupyter-widgets/base",
          "model_name": "LayoutModel",
          "model_module_version": "1.2.0",
          "state": {
            "_model_module": "@jupyter-widgets/base",
            "_model_module_version": "1.2.0",
            "_model_name": "LayoutModel",
            "_view_count": null,
            "_view_module": "@jupyter-widgets/base",
            "_view_module_version": "1.2.0",
            "_view_name": "LayoutView",
            "align_content": null,
            "align_items": null,
            "align_self": null,
            "border": null,
            "bottom": null,
            "display": null,
            "flex": null,
            "flex_flow": null,
            "grid_area": null,
            "grid_auto_columns": null,
            "grid_auto_flow": null,
            "grid_auto_rows": null,
            "grid_column": null,
            "grid_gap": null,
            "grid_row": null,
            "grid_template_areas": null,
            "grid_template_columns": null,
            "grid_template_rows": null,
            "height": null,
            "justify_content": null,
            "justify_items": null,
            "left": null,
            "margin": null,
            "max_height": null,
            "max_width": null,
            "min_height": null,
            "min_width": null,
            "object_fit": null,
            "object_position": null,
            "order": null,
            "overflow": null,
            "overflow_x": null,
            "overflow_y": null,
            "padding": null,
            "right": null,
            "top": null,
            "visibility": null,
            "width": null
          }
        },
        "3cc32b5804bc4335afd86f42da9ac1da": {
          "model_module": "@jupyter-widgets/controls",
          "model_name": "DescriptionStyleModel",
          "model_module_version": "1.5.0",
          "state": {
            "_model_module": "@jupyter-widgets/controls",
            "_model_module_version": "1.5.0",
            "_model_name": "DescriptionStyleModel",
            "_view_count": null,
            "_view_module": "@jupyter-widgets/base",
            "_view_module_version": "1.2.0",
            "_view_name": "StyleView",
            "description_width": ""
          }
        },
        "efb1209aa5af4e209fcbf1cd3897006c": {
          "model_module": "@jupyter-widgets/controls",
          "model_name": "HBoxModel",
          "model_module_version": "1.5.0",
          "state": {
            "_dom_classes": [],
            "_model_module": "@jupyter-widgets/controls",
            "_model_module_version": "1.5.0",
            "_model_name": "HBoxModel",
            "_view_count": null,
            "_view_module": "@jupyter-widgets/controls",
            "_view_module_version": "1.5.0",
            "_view_name": "HBoxView",
            "box_style": "",
            "children": [
              "IPY_MODEL_99f6e450b6d642b384049a0b00b66bc2",
              "IPY_MODEL_c7d30098706b4c02859267637c403b7e",
              "IPY_MODEL_2677d5ca016645b1aee1215f2119dafa"
            ],
            "layout": "IPY_MODEL_49d1a8e997bb44dab44a23fcbe53f8ab"
          }
        },
        "99f6e450b6d642b384049a0b00b66bc2": {
          "model_module": "@jupyter-widgets/controls",
          "model_name": "HTMLModel",
          "model_module_version": "1.5.0",
          "state": {
            "_dom_classes": [],
            "_model_module": "@jupyter-widgets/controls",
            "_model_module_version": "1.5.0",
            "_model_name": "HTMLModel",
            "_view_count": null,
            "_view_module": "@jupyter-widgets/controls",
            "_view_module_version": "1.5.0",
            "_view_name": "HTMLView",
            "description": "",
            "description_tooltip": null,
            "layout": "IPY_MODEL_58afb7d8fe8f4ed6abfa1f0c942f1457",
            "placeholder": "​",
            "style": "IPY_MODEL_a7a9b7bf78e9415190f718c42ce69462",
            "value": "Map: 100%"
          }
        },
        "c7d30098706b4c02859267637c403b7e": {
          "model_module": "@jupyter-widgets/controls",
          "model_name": "FloatProgressModel",
          "model_module_version": "1.5.0",
          "state": {
            "_dom_classes": [],
            "_model_module": "@jupyter-widgets/controls",
            "_model_module_version": "1.5.0",
            "_model_name": "FloatProgressModel",
            "_view_count": null,
            "_view_module": "@jupyter-widgets/controls",
            "_view_module_version": "1.5.0",
            "_view_name": "ProgressView",
            "bar_style": "success",
            "description": "",
            "description_tooltip": null,
            "layout": "IPY_MODEL_6d30a8b6762f4d6abe91246fdbe976c0",
            "max": 50000,
            "min": 0,
            "orientation": "horizontal",
            "style": "IPY_MODEL_fe52a2ae21934422b59c08790ad545a6",
            "value": 50000
          }
        },
        "2677d5ca016645b1aee1215f2119dafa": {
          "model_module": "@jupyter-widgets/controls",
          "model_name": "HTMLModel",
          "model_module_version": "1.5.0",
          "state": {
            "_dom_classes": [],
            "_model_module": "@jupyter-widgets/controls",
            "_model_module_version": "1.5.0",
            "_model_name": "HTMLModel",
            "_view_count": null,
            "_view_module": "@jupyter-widgets/controls",
            "_view_module_version": "1.5.0",
            "_view_name": "HTMLView",
            "description": "",
            "description_tooltip": null,
            "layout": "IPY_MODEL_396dc42ee2104035ad06076f47128ede",
            "placeholder": "​",
            "style": "IPY_MODEL_918685989fd44aa28da37bd07a6c2d9b",
            "value": " 50000/50000 [02:23&lt;00:00, 279.94 examples/s]"
          }
        },
        "49d1a8e997bb44dab44a23fcbe53f8ab": {
          "model_module": "@jupyter-widgets/base",
          "model_name": "LayoutModel",
          "model_module_version": "1.2.0",
          "state": {
            "_model_module": "@jupyter-widgets/base",
            "_model_module_version": "1.2.0",
            "_model_name": "LayoutModel",
            "_view_count": null,
            "_view_module": "@jupyter-widgets/base",
            "_view_module_version": "1.2.0",
            "_view_name": "LayoutView",
            "align_content": null,
            "align_items": null,
            "align_self": null,
            "border": null,
            "bottom": null,
            "display": null,
            "flex": null,
            "flex_flow": null,
            "grid_area": null,
            "grid_auto_columns": null,
            "grid_auto_flow": null,
            "grid_auto_rows": null,
            "grid_column": null,
            "grid_gap": null,
            "grid_row": null,
            "grid_template_areas": null,
            "grid_template_columns": null,
            "grid_template_rows": null,
            "height": null,
            "justify_content": null,
            "justify_items": null,
            "left": null,
            "margin": null,
            "max_height": null,
            "max_width": null,
            "min_height": null,
            "min_width": null,
            "object_fit": null,
            "object_position": null,
            "order": null,
            "overflow": null,
            "overflow_x": null,
            "overflow_y": null,
            "padding": null,
            "right": null,
            "top": null,
            "visibility": null,
            "width": null
          }
        },
        "58afb7d8fe8f4ed6abfa1f0c942f1457": {
          "model_module": "@jupyter-widgets/base",
          "model_name": "LayoutModel",
          "model_module_version": "1.2.0",
          "state": {
            "_model_module": "@jupyter-widgets/base",
            "_model_module_version": "1.2.0",
            "_model_name": "LayoutModel",
            "_view_count": null,
            "_view_module": "@jupyter-widgets/base",
            "_view_module_version": "1.2.0",
            "_view_name": "LayoutView",
            "align_content": null,
            "align_items": null,
            "align_self": null,
            "border": null,
            "bottom": null,
            "display": null,
            "flex": null,
            "flex_flow": null,
            "grid_area": null,
            "grid_auto_columns": null,
            "grid_auto_flow": null,
            "grid_auto_rows": null,
            "grid_column": null,
            "grid_gap": null,
            "grid_row": null,
            "grid_template_areas": null,
            "grid_template_columns": null,
            "grid_template_rows": null,
            "height": null,
            "justify_content": null,
            "justify_items": null,
            "left": null,
            "margin": null,
            "max_height": null,
            "max_width": null,
            "min_height": null,
            "min_width": null,
            "object_fit": null,
            "object_position": null,
            "order": null,
            "overflow": null,
            "overflow_x": null,
            "overflow_y": null,
            "padding": null,
            "right": null,
            "top": null,
            "visibility": null,
            "width": null
          }
        },
        "a7a9b7bf78e9415190f718c42ce69462": {
          "model_module": "@jupyter-widgets/controls",
          "model_name": "DescriptionStyleModel",
          "model_module_version": "1.5.0",
          "state": {
            "_model_module": "@jupyter-widgets/controls",
            "_model_module_version": "1.5.0",
            "_model_name": "DescriptionStyleModel",
            "_view_count": null,
            "_view_module": "@jupyter-widgets/base",
            "_view_module_version": "1.2.0",
            "_view_name": "StyleView",
            "description_width": ""
          }
        },
        "6d30a8b6762f4d6abe91246fdbe976c0": {
          "model_module": "@jupyter-widgets/base",
          "model_name": "LayoutModel",
          "model_module_version": "1.2.0",
          "state": {
            "_model_module": "@jupyter-widgets/base",
            "_model_module_version": "1.2.0",
            "_model_name": "LayoutModel",
            "_view_count": null,
            "_view_module": "@jupyter-widgets/base",
            "_view_module_version": "1.2.0",
            "_view_name": "LayoutView",
            "align_content": null,
            "align_items": null,
            "align_self": null,
            "border": null,
            "bottom": null,
            "display": null,
            "flex": null,
            "flex_flow": null,
            "grid_area": null,
            "grid_auto_columns": null,
            "grid_auto_flow": null,
            "grid_auto_rows": null,
            "grid_column": null,
            "grid_gap": null,
            "grid_row": null,
            "grid_template_areas": null,
            "grid_template_columns": null,
            "grid_template_rows": null,
            "height": null,
            "justify_content": null,
            "justify_items": null,
            "left": null,
            "margin": null,
            "max_height": null,
            "max_width": null,
            "min_height": null,
            "min_width": null,
            "object_fit": null,
            "object_position": null,
            "order": null,
            "overflow": null,
            "overflow_x": null,
            "overflow_y": null,
            "padding": null,
            "right": null,
            "top": null,
            "visibility": null,
            "width": null
          }
        },
        "fe52a2ae21934422b59c08790ad545a6": {
          "model_module": "@jupyter-widgets/controls",
          "model_name": "ProgressStyleModel",
          "model_module_version": "1.5.0",
          "state": {
            "_model_module": "@jupyter-widgets/controls",
            "_model_module_version": "1.5.0",
            "_model_name": "ProgressStyleModel",
            "_view_count": null,
            "_view_module": "@jupyter-widgets/base",
            "_view_module_version": "1.2.0",
            "_view_name": "StyleView",
            "bar_color": null,
            "description_width": ""
          }
        },
        "396dc42ee2104035ad06076f47128ede": {
          "model_module": "@jupyter-widgets/base",
          "model_name": "LayoutModel",
          "model_module_version": "1.2.0",
          "state": {
            "_model_module": "@jupyter-widgets/base",
            "_model_module_version": "1.2.0",
            "_model_name": "LayoutModel",
            "_view_count": null,
            "_view_module": "@jupyter-widgets/base",
            "_view_module_version": "1.2.0",
            "_view_name": "LayoutView",
            "align_content": null,
            "align_items": null,
            "align_self": null,
            "border": null,
            "bottom": null,
            "display": null,
            "flex": null,
            "flex_flow": null,
            "grid_area": null,
            "grid_auto_columns": null,
            "grid_auto_flow": null,
            "grid_auto_rows": null,
            "grid_column": null,
            "grid_gap": null,
            "grid_row": null,
            "grid_template_areas": null,
            "grid_template_columns": null,
            "grid_template_rows": null,
            "height": null,
            "justify_content": null,
            "justify_items": null,
            "left": null,
            "margin": null,
            "max_height": null,
            "max_width": null,
            "min_height": null,
            "min_width": null,
            "object_fit": null,
            "object_position": null,
            "order": null,
            "overflow": null,
            "overflow_x": null,
            "overflow_y": null,
            "padding": null,
            "right": null,
            "top": null,
            "visibility": null,
            "width": null
          }
        },
        "918685989fd44aa28da37bd07a6c2d9b": {
          "model_module": "@jupyter-widgets/controls",
          "model_name": "DescriptionStyleModel",
          "model_module_version": "1.5.0",
          "state": {
            "_model_module": "@jupyter-widgets/controls",
            "_model_module_version": "1.5.0",
            "_model_name": "DescriptionStyleModel",
            "_view_count": null,
            "_view_module": "@jupyter-widgets/base",
            "_view_module_version": "1.2.0",
            "_view_name": "StyleView",
            "description_width": ""
          }
        },
        "5d498b448b1c4446a6a42674c376ae68": {
          "model_module": "@jupyter-widgets/controls",
          "model_name": "VBoxModel",
          "model_module_version": "1.5.0",
          "state": {
            "_dom_classes": [],
            "_model_module": "@jupyter-widgets/controls",
            "_model_module_version": "1.5.0",
            "_model_name": "VBoxModel",
            "_view_count": null,
            "_view_module": "@jupyter-widgets/controls",
            "_view_module_version": "1.5.0",
            "_view_name": "VBoxView",
            "box_style": "",
            "children": [
              "IPY_MODEL_c15895f1fa7140fc8cb1248ccb7d0917",
              "IPY_MODEL_a0166a8dff894aa8b695771d1bbdaaf2",
              "IPY_MODEL_fb92cc5ab6ff4d438e6bc23da8c24cc2",
              "IPY_MODEL_926fb7724cd5408f9c599c16b25357f7"
            ],
            "layout": "IPY_MODEL_21a3f0dc5bf8461dbad7b7099a3dc624"
          }
        },
        "452263a782e14e24bcebdeca8e56101d": {
          "model_module": "@jupyter-widgets/controls",
          "model_name": "HTMLModel",
          "model_module_version": "1.5.0",
          "state": {
            "_dom_classes": [],
            "_model_module": "@jupyter-widgets/controls",
            "_model_module_version": "1.5.0",
            "_model_name": "HTMLModel",
            "_view_count": null,
            "_view_module": "@jupyter-widgets/controls",
            "_view_module_version": "1.5.0",
            "_view_name": "HTMLView",
            "description": "",
            "description_tooltip": null,
            "layout": "IPY_MODEL_3bc249aace70472aabeb1c018bc7e140",
            "placeholder": "​",
            "style": "IPY_MODEL_8ea07d36326d44b595fa99958428cce0",
            "value": "<center> <img\nsrc=https://huggingface.co/front/assets/huggingface_logo-noborder.svg\nalt='Hugging Face'> <br> Copy a token from <a\nhref=\"https://huggingface.co/settings/tokens\" target=\"_blank\">your Hugging Face\ntokens page</a> and paste it below. <br> Immediately click login after copying\nyour token or it might be stored in plain text in this notebook file. </center>"
          }
        },
        "dea79a4c51734cef87766803cf8b2dbe": {
          "model_module": "@jupyter-widgets/controls",
          "model_name": "PasswordModel",
          "model_module_version": "1.5.0",
          "state": {
            "_dom_classes": [],
            "_model_module": "@jupyter-widgets/controls",
            "_model_module_version": "1.5.0",
            "_model_name": "PasswordModel",
            "_view_count": null,
            "_view_module": "@jupyter-widgets/controls",
            "_view_module_version": "1.5.0",
            "_view_name": "PasswordView",
            "continuous_update": true,
            "description": "Token:",
            "description_tooltip": null,
            "disabled": false,
            "layout": "IPY_MODEL_6a8dbe42ade94fa9ac7e3f3d46172528",
            "placeholder": "​",
            "style": "IPY_MODEL_ef919d173eec438896ea324c5f478401",
            "value": ""
          }
        },
        "bf20b2418bfc4e559b8b6bc31539ac54": {
          "model_module": "@jupyter-widgets/controls",
          "model_name": "CheckboxModel",
          "model_module_version": "1.5.0",
          "state": {
            "_dom_classes": [],
            "_model_module": "@jupyter-widgets/controls",
            "_model_module_version": "1.5.0",
            "_model_name": "CheckboxModel",
            "_view_count": null,
            "_view_module": "@jupyter-widgets/controls",
            "_view_module_version": "1.5.0",
            "_view_name": "CheckboxView",
            "description": "Add token as git credential?",
            "description_tooltip": null,
            "disabled": false,
            "indent": true,
            "layout": "IPY_MODEL_c1c7993f47614ea7a92a4cdf35092409",
            "style": "IPY_MODEL_a9bc42857db041fb9fc719acd178e844",
            "value": true
          }
        },
        "c4c6375b76af4cb6ab033dc8630505ac": {
          "model_module": "@jupyter-widgets/controls",
          "model_name": "ButtonModel",
          "model_module_version": "1.5.0",
          "state": {
            "_dom_classes": [],
            "_model_module": "@jupyter-widgets/controls",
            "_model_module_version": "1.5.0",
            "_model_name": "ButtonModel",
            "_view_count": null,
            "_view_module": "@jupyter-widgets/controls",
            "_view_module_version": "1.5.0",
            "_view_name": "ButtonView",
            "button_style": "",
            "description": "Login",
            "disabled": false,
            "icon": "",
            "layout": "IPY_MODEL_91b566df5d684b7c8cc18ba0991e2b69",
            "style": "IPY_MODEL_be1aaeb979f6404bba01cf53dc1680ad",
            "tooltip": ""
          }
        },
        "a18fa94f6d054371adecbd7557b6e8aa": {
          "model_module": "@jupyter-widgets/controls",
          "model_name": "HTMLModel",
          "model_module_version": "1.5.0",
          "state": {
            "_dom_classes": [],
            "_model_module": "@jupyter-widgets/controls",
            "_model_module_version": "1.5.0",
            "_model_name": "HTMLModel",
            "_view_count": null,
            "_view_module": "@jupyter-widgets/controls",
            "_view_module_version": "1.5.0",
            "_view_name": "HTMLView",
            "description": "",
            "description_tooltip": null,
            "layout": "IPY_MODEL_a5b955a8799d42c898bf07a49ae39a5a",
            "placeholder": "​",
            "style": "IPY_MODEL_e224138cc8a84c2d85dccf5498d735ad",
            "value": "\n<b>Pro Tip:</b> If you don't already have one, you can create a dedicated\n'notebooks' token with 'write' access, that you can then easily reuse for all\nnotebooks. </center>"
          }
        },
        "21a3f0dc5bf8461dbad7b7099a3dc624": {
          "model_module": "@jupyter-widgets/base",
          "model_name": "LayoutModel",
          "model_module_version": "1.2.0",
          "state": {
            "_model_module": "@jupyter-widgets/base",
            "_model_module_version": "1.2.0",
            "_model_name": "LayoutModel",
            "_view_count": null,
            "_view_module": "@jupyter-widgets/base",
            "_view_module_version": "1.2.0",
            "_view_name": "LayoutView",
            "align_content": null,
            "align_items": "center",
            "align_self": null,
            "border": null,
            "bottom": null,
            "display": "flex",
            "flex": null,
            "flex_flow": "column",
            "grid_area": null,
            "grid_auto_columns": null,
            "grid_auto_flow": null,
            "grid_auto_rows": null,
            "grid_column": null,
            "grid_gap": null,
            "grid_row": null,
            "grid_template_areas": null,
            "grid_template_columns": null,
            "grid_template_rows": null,
            "height": null,
            "justify_content": null,
            "justify_items": null,
            "left": null,
            "margin": null,
            "max_height": null,
            "max_width": null,
            "min_height": null,
            "min_width": null,
            "object_fit": null,
            "object_position": null,
            "order": null,
            "overflow": null,
            "overflow_x": null,
            "overflow_y": null,
            "padding": null,
            "right": null,
            "top": null,
            "visibility": null,
            "width": "50%"
          }
        },
        "3bc249aace70472aabeb1c018bc7e140": {
          "model_module": "@jupyter-widgets/base",
          "model_name": "LayoutModel",
          "model_module_version": "1.2.0",
          "state": {
            "_model_module": "@jupyter-widgets/base",
            "_model_module_version": "1.2.0",
            "_model_name": "LayoutModel",
            "_view_count": null,
            "_view_module": "@jupyter-widgets/base",
            "_view_module_version": "1.2.0",
            "_view_name": "LayoutView",
            "align_content": null,
            "align_items": null,
            "align_self": null,
            "border": null,
            "bottom": null,
            "display": null,
            "flex": null,
            "flex_flow": null,
            "grid_area": null,
            "grid_auto_columns": null,
            "grid_auto_flow": null,
            "grid_auto_rows": null,
            "grid_column": null,
            "grid_gap": null,
            "grid_row": null,
            "grid_template_areas": null,
            "grid_template_columns": null,
            "grid_template_rows": null,
            "height": null,
            "justify_content": null,
            "justify_items": null,
            "left": null,
            "margin": null,
            "max_height": null,
            "max_width": null,
            "min_height": null,
            "min_width": null,
            "object_fit": null,
            "object_position": null,
            "order": null,
            "overflow": null,
            "overflow_x": null,
            "overflow_y": null,
            "padding": null,
            "right": null,
            "top": null,
            "visibility": null,
            "width": null
          }
        },
        "8ea07d36326d44b595fa99958428cce0": {
          "model_module": "@jupyter-widgets/controls",
          "model_name": "DescriptionStyleModel",
          "model_module_version": "1.5.0",
          "state": {
            "_model_module": "@jupyter-widgets/controls",
            "_model_module_version": "1.5.0",
            "_model_name": "DescriptionStyleModel",
            "_view_count": null,
            "_view_module": "@jupyter-widgets/base",
            "_view_module_version": "1.2.0",
            "_view_name": "StyleView",
            "description_width": ""
          }
        },
        "6a8dbe42ade94fa9ac7e3f3d46172528": {
          "model_module": "@jupyter-widgets/base",
          "model_name": "LayoutModel",
          "model_module_version": "1.2.0",
          "state": {
            "_model_module": "@jupyter-widgets/base",
            "_model_module_version": "1.2.0",
            "_model_name": "LayoutModel",
            "_view_count": null,
            "_view_module": "@jupyter-widgets/base",
            "_view_module_version": "1.2.0",
            "_view_name": "LayoutView",
            "align_content": null,
            "align_items": null,
            "align_self": null,
            "border": null,
            "bottom": null,
            "display": null,
            "flex": null,
            "flex_flow": null,
            "grid_area": null,
            "grid_auto_columns": null,
            "grid_auto_flow": null,
            "grid_auto_rows": null,
            "grid_column": null,
            "grid_gap": null,
            "grid_row": null,
            "grid_template_areas": null,
            "grid_template_columns": null,
            "grid_template_rows": null,
            "height": null,
            "justify_content": null,
            "justify_items": null,
            "left": null,
            "margin": null,
            "max_height": null,
            "max_width": null,
            "min_height": null,
            "min_width": null,
            "object_fit": null,
            "object_position": null,
            "order": null,
            "overflow": null,
            "overflow_x": null,
            "overflow_y": null,
            "padding": null,
            "right": null,
            "top": null,
            "visibility": null,
            "width": null
          }
        },
        "ef919d173eec438896ea324c5f478401": {
          "model_module": "@jupyter-widgets/controls",
          "model_name": "DescriptionStyleModel",
          "model_module_version": "1.5.0",
          "state": {
            "_model_module": "@jupyter-widgets/controls",
            "_model_module_version": "1.5.0",
            "_model_name": "DescriptionStyleModel",
            "_view_count": null,
            "_view_module": "@jupyter-widgets/base",
            "_view_module_version": "1.2.0",
            "_view_name": "StyleView",
            "description_width": ""
          }
        },
        "c1c7993f47614ea7a92a4cdf35092409": {
          "model_module": "@jupyter-widgets/base",
          "model_name": "LayoutModel",
          "model_module_version": "1.2.0",
          "state": {
            "_model_module": "@jupyter-widgets/base",
            "_model_module_version": "1.2.0",
            "_model_name": "LayoutModel",
            "_view_count": null,
            "_view_module": "@jupyter-widgets/base",
            "_view_module_version": "1.2.0",
            "_view_name": "LayoutView",
            "align_content": null,
            "align_items": null,
            "align_self": null,
            "border": null,
            "bottom": null,
            "display": null,
            "flex": null,
            "flex_flow": null,
            "grid_area": null,
            "grid_auto_columns": null,
            "grid_auto_flow": null,
            "grid_auto_rows": null,
            "grid_column": null,
            "grid_gap": null,
            "grid_row": null,
            "grid_template_areas": null,
            "grid_template_columns": null,
            "grid_template_rows": null,
            "height": null,
            "justify_content": null,
            "justify_items": null,
            "left": null,
            "margin": null,
            "max_height": null,
            "max_width": null,
            "min_height": null,
            "min_width": null,
            "object_fit": null,
            "object_position": null,
            "order": null,
            "overflow": null,
            "overflow_x": null,
            "overflow_y": null,
            "padding": null,
            "right": null,
            "top": null,
            "visibility": null,
            "width": null
          }
        },
        "a9bc42857db041fb9fc719acd178e844": {
          "model_module": "@jupyter-widgets/controls",
          "model_name": "DescriptionStyleModel",
          "model_module_version": "1.5.0",
          "state": {
            "_model_module": "@jupyter-widgets/controls",
            "_model_module_version": "1.5.0",
            "_model_name": "DescriptionStyleModel",
            "_view_count": null,
            "_view_module": "@jupyter-widgets/base",
            "_view_module_version": "1.2.0",
            "_view_name": "StyleView",
            "description_width": ""
          }
        },
        "91b566df5d684b7c8cc18ba0991e2b69": {
          "model_module": "@jupyter-widgets/base",
          "model_name": "LayoutModel",
          "model_module_version": "1.2.0",
          "state": {
            "_model_module": "@jupyter-widgets/base",
            "_model_module_version": "1.2.0",
            "_model_name": "LayoutModel",
            "_view_count": null,
            "_view_module": "@jupyter-widgets/base",
            "_view_module_version": "1.2.0",
            "_view_name": "LayoutView",
            "align_content": null,
            "align_items": null,
            "align_self": null,
            "border": null,
            "bottom": null,
            "display": null,
            "flex": null,
            "flex_flow": null,
            "grid_area": null,
            "grid_auto_columns": null,
            "grid_auto_flow": null,
            "grid_auto_rows": null,
            "grid_column": null,
            "grid_gap": null,
            "grid_row": null,
            "grid_template_areas": null,
            "grid_template_columns": null,
            "grid_template_rows": null,
            "height": null,
            "justify_content": null,
            "justify_items": null,
            "left": null,
            "margin": null,
            "max_height": null,
            "max_width": null,
            "min_height": null,
            "min_width": null,
            "object_fit": null,
            "object_position": null,
            "order": null,
            "overflow": null,
            "overflow_x": null,
            "overflow_y": null,
            "padding": null,
            "right": null,
            "top": null,
            "visibility": null,
            "width": null
          }
        },
        "be1aaeb979f6404bba01cf53dc1680ad": {
          "model_module": "@jupyter-widgets/controls",
          "model_name": "ButtonStyleModel",
          "model_module_version": "1.5.0",
          "state": {
            "_model_module": "@jupyter-widgets/controls",
            "_model_module_version": "1.5.0",
            "_model_name": "ButtonStyleModel",
            "_view_count": null,
            "_view_module": "@jupyter-widgets/base",
            "_view_module_version": "1.2.0",
            "_view_name": "StyleView",
            "button_color": null,
            "font_weight": ""
          }
        },
        "a5b955a8799d42c898bf07a49ae39a5a": {
          "model_module": "@jupyter-widgets/base",
          "model_name": "LayoutModel",
          "model_module_version": "1.2.0",
          "state": {
            "_model_module": "@jupyter-widgets/base",
            "_model_module_version": "1.2.0",
            "_model_name": "LayoutModel",
            "_view_count": null,
            "_view_module": "@jupyter-widgets/base",
            "_view_module_version": "1.2.0",
            "_view_name": "LayoutView",
            "align_content": null,
            "align_items": null,
            "align_self": null,
            "border": null,
            "bottom": null,
            "display": null,
            "flex": null,
            "flex_flow": null,
            "grid_area": null,
            "grid_auto_columns": null,
            "grid_auto_flow": null,
            "grid_auto_rows": null,
            "grid_column": null,
            "grid_gap": null,
            "grid_row": null,
            "grid_template_areas": null,
            "grid_template_columns": null,
            "grid_template_rows": null,
            "height": null,
            "justify_content": null,
            "justify_items": null,
            "left": null,
            "margin": null,
            "max_height": null,
            "max_width": null,
            "min_height": null,
            "min_width": null,
            "object_fit": null,
            "object_position": null,
            "order": null,
            "overflow": null,
            "overflow_x": null,
            "overflow_y": null,
            "padding": null,
            "right": null,
            "top": null,
            "visibility": null,
            "width": null
          }
        },
        "e224138cc8a84c2d85dccf5498d735ad": {
          "model_module": "@jupyter-widgets/controls",
          "model_name": "DescriptionStyleModel",
          "model_module_version": "1.5.0",
          "state": {
            "_model_module": "@jupyter-widgets/controls",
            "_model_module_version": "1.5.0",
            "_model_name": "DescriptionStyleModel",
            "_view_count": null,
            "_view_module": "@jupyter-widgets/base",
            "_view_module_version": "1.2.0",
            "_view_name": "StyleView",
            "description_width": ""
          }
        },
        "561fc25ddd204a3aa41d5d097194d2dc": {
          "model_module": "@jupyter-widgets/controls",
          "model_name": "LabelModel",
          "model_module_version": "1.5.0",
          "state": {
            "_dom_classes": [],
            "_model_module": "@jupyter-widgets/controls",
            "_model_module_version": "1.5.0",
            "_model_name": "LabelModel",
            "_view_count": null,
            "_view_module": "@jupyter-widgets/controls",
            "_view_module_version": "1.5.0",
            "_view_name": "LabelView",
            "description": "",
            "description_tooltip": null,
            "layout": "IPY_MODEL_33d7cd92de9845169fd9619484b93622",
            "placeholder": "​",
            "style": "IPY_MODEL_7f35a912b5594f54bc65828c98ad67f8",
            "value": "Connecting..."
          }
        },
        "33d7cd92de9845169fd9619484b93622": {
          "model_module": "@jupyter-widgets/base",
          "model_name": "LayoutModel",
          "model_module_version": "1.2.0",
          "state": {
            "_model_module": "@jupyter-widgets/base",
            "_model_module_version": "1.2.0",
            "_model_name": "LayoutModel",
            "_view_count": null,
            "_view_module": "@jupyter-widgets/base",
            "_view_module_version": "1.2.0",
            "_view_name": "LayoutView",
            "align_content": null,
            "align_items": null,
            "align_self": null,
            "border": null,
            "bottom": null,
            "display": null,
            "flex": null,
            "flex_flow": null,
            "grid_area": null,
            "grid_auto_columns": null,
            "grid_auto_flow": null,
            "grid_auto_rows": null,
            "grid_column": null,
            "grid_gap": null,
            "grid_row": null,
            "grid_template_areas": null,
            "grid_template_columns": null,
            "grid_template_rows": null,
            "height": null,
            "justify_content": null,
            "justify_items": null,
            "left": null,
            "margin": null,
            "max_height": null,
            "max_width": null,
            "min_height": null,
            "min_width": null,
            "object_fit": null,
            "object_position": null,
            "order": null,
            "overflow": null,
            "overflow_x": null,
            "overflow_y": null,
            "padding": null,
            "right": null,
            "top": null,
            "visibility": null,
            "width": null
          }
        },
        "7f35a912b5594f54bc65828c98ad67f8": {
          "model_module": "@jupyter-widgets/controls",
          "model_name": "DescriptionStyleModel",
          "model_module_version": "1.5.0",
          "state": {
            "_model_module": "@jupyter-widgets/controls",
            "_model_module_version": "1.5.0",
            "_model_name": "DescriptionStyleModel",
            "_view_count": null,
            "_view_module": "@jupyter-widgets/base",
            "_view_module_version": "1.2.0",
            "_view_name": "StyleView",
            "description_width": ""
          }
        },
        "c15895f1fa7140fc8cb1248ccb7d0917": {
          "model_module": "@jupyter-widgets/controls",
          "model_name": "LabelModel",
          "model_module_version": "1.5.0",
          "state": {
            "_dom_classes": [],
            "_model_module": "@jupyter-widgets/controls",
            "_model_module_version": "1.5.0",
            "_model_name": "LabelModel",
            "_view_count": null,
            "_view_module": "@jupyter-widgets/controls",
            "_view_module_version": "1.5.0",
            "_view_name": "LabelView",
            "description": "",
            "description_tooltip": null,
            "layout": "IPY_MODEL_8cb4ecc39064402b98eeab1d97211cc8",
            "placeholder": "​",
            "style": "IPY_MODEL_190cc61dd9d7467ca6c70d355b9320f7",
            "value": "Token is valid (permission: write)."
          }
        },
        "a0166a8dff894aa8b695771d1bbdaaf2": {
          "model_module": "@jupyter-widgets/controls",
          "model_name": "LabelModel",
          "model_module_version": "1.5.0",
          "state": {
            "_dom_classes": [],
            "_model_module": "@jupyter-widgets/controls",
            "_model_module_version": "1.5.0",
            "_model_name": "LabelModel",
            "_view_count": null,
            "_view_module": "@jupyter-widgets/controls",
            "_view_module_version": "1.5.0",
            "_view_name": "LabelView",
            "description": "",
            "description_tooltip": null,
            "layout": "IPY_MODEL_1a62edcce40d4299b4b59e8fb540eadd",
            "placeholder": "​",
            "style": "IPY_MODEL_d68623317b8c43b582cd8c5181106d63",
            "value": "Your token has been saved in your configured git credential helpers (store)."
          }
        },
        "fb92cc5ab6ff4d438e6bc23da8c24cc2": {
          "model_module": "@jupyter-widgets/controls",
          "model_name": "LabelModel",
          "model_module_version": "1.5.0",
          "state": {
            "_dom_classes": [],
            "_model_module": "@jupyter-widgets/controls",
            "_model_module_version": "1.5.0",
            "_model_name": "LabelModel",
            "_view_count": null,
            "_view_module": "@jupyter-widgets/controls",
            "_view_module_version": "1.5.0",
            "_view_name": "LabelView",
            "description": "",
            "description_tooltip": null,
            "layout": "IPY_MODEL_7a1a1b255bf344e5944a4d85c16b55c4",
            "placeholder": "​",
            "style": "IPY_MODEL_c357758755624350bad62048f6e3f9b4",
            "value": "Your token has been saved to /root/.cache/huggingface/token"
          }
        },
        "926fb7724cd5408f9c599c16b25357f7": {
          "model_module": "@jupyter-widgets/controls",
          "model_name": "LabelModel",
          "model_module_version": "1.5.0",
          "state": {
            "_dom_classes": [],
            "_model_module": "@jupyter-widgets/controls",
            "_model_module_version": "1.5.0",
            "_model_name": "LabelModel",
            "_view_count": null,
            "_view_module": "@jupyter-widgets/controls",
            "_view_module_version": "1.5.0",
            "_view_name": "LabelView",
            "description": "",
            "description_tooltip": null,
            "layout": "IPY_MODEL_3ef3f7268e844e8aa1f599316c2468bd",
            "placeholder": "​",
            "style": "IPY_MODEL_154488b08c804d27b9cf2b7726de5b27",
            "value": "Login successful"
          }
        },
        "8cb4ecc39064402b98eeab1d97211cc8": {
          "model_module": "@jupyter-widgets/base",
          "model_name": "LayoutModel",
          "model_module_version": "1.2.0",
          "state": {
            "_model_module": "@jupyter-widgets/base",
            "_model_module_version": "1.2.0",
            "_model_name": "LayoutModel",
            "_view_count": null,
            "_view_module": "@jupyter-widgets/base",
            "_view_module_version": "1.2.0",
            "_view_name": "LayoutView",
            "align_content": null,
            "align_items": null,
            "align_self": null,
            "border": null,
            "bottom": null,
            "display": null,
            "flex": null,
            "flex_flow": null,
            "grid_area": null,
            "grid_auto_columns": null,
            "grid_auto_flow": null,
            "grid_auto_rows": null,
            "grid_column": null,
            "grid_gap": null,
            "grid_row": null,
            "grid_template_areas": null,
            "grid_template_columns": null,
            "grid_template_rows": null,
            "height": null,
            "justify_content": null,
            "justify_items": null,
            "left": null,
            "margin": null,
            "max_height": null,
            "max_width": null,
            "min_height": null,
            "min_width": null,
            "object_fit": null,
            "object_position": null,
            "order": null,
            "overflow": null,
            "overflow_x": null,
            "overflow_y": null,
            "padding": null,
            "right": null,
            "top": null,
            "visibility": null,
            "width": null
          }
        },
        "190cc61dd9d7467ca6c70d355b9320f7": {
          "model_module": "@jupyter-widgets/controls",
          "model_name": "DescriptionStyleModel",
          "model_module_version": "1.5.0",
          "state": {
            "_model_module": "@jupyter-widgets/controls",
            "_model_module_version": "1.5.0",
            "_model_name": "DescriptionStyleModel",
            "_view_count": null,
            "_view_module": "@jupyter-widgets/base",
            "_view_module_version": "1.2.0",
            "_view_name": "StyleView",
            "description_width": ""
          }
        },
        "1a62edcce40d4299b4b59e8fb540eadd": {
          "model_module": "@jupyter-widgets/base",
          "model_name": "LayoutModel",
          "model_module_version": "1.2.0",
          "state": {
            "_model_module": "@jupyter-widgets/base",
            "_model_module_version": "1.2.0",
            "_model_name": "LayoutModel",
            "_view_count": null,
            "_view_module": "@jupyter-widgets/base",
            "_view_module_version": "1.2.0",
            "_view_name": "LayoutView",
            "align_content": null,
            "align_items": null,
            "align_self": null,
            "border": null,
            "bottom": null,
            "display": null,
            "flex": null,
            "flex_flow": null,
            "grid_area": null,
            "grid_auto_columns": null,
            "grid_auto_flow": null,
            "grid_auto_rows": null,
            "grid_column": null,
            "grid_gap": null,
            "grid_row": null,
            "grid_template_areas": null,
            "grid_template_columns": null,
            "grid_template_rows": null,
            "height": null,
            "justify_content": null,
            "justify_items": null,
            "left": null,
            "margin": null,
            "max_height": null,
            "max_width": null,
            "min_height": null,
            "min_width": null,
            "object_fit": null,
            "object_position": null,
            "order": null,
            "overflow": null,
            "overflow_x": null,
            "overflow_y": null,
            "padding": null,
            "right": null,
            "top": null,
            "visibility": null,
            "width": null
          }
        },
        "d68623317b8c43b582cd8c5181106d63": {
          "model_module": "@jupyter-widgets/controls",
          "model_name": "DescriptionStyleModel",
          "model_module_version": "1.5.0",
          "state": {
            "_model_module": "@jupyter-widgets/controls",
            "_model_module_version": "1.5.0",
            "_model_name": "DescriptionStyleModel",
            "_view_count": null,
            "_view_module": "@jupyter-widgets/base",
            "_view_module_version": "1.2.0",
            "_view_name": "StyleView",
            "description_width": ""
          }
        },
        "7a1a1b255bf344e5944a4d85c16b55c4": {
          "model_module": "@jupyter-widgets/base",
          "model_name": "LayoutModel",
          "model_module_version": "1.2.0",
          "state": {
            "_model_module": "@jupyter-widgets/base",
            "_model_module_version": "1.2.0",
            "_model_name": "LayoutModel",
            "_view_count": null,
            "_view_module": "@jupyter-widgets/base",
            "_view_module_version": "1.2.0",
            "_view_name": "LayoutView",
            "align_content": null,
            "align_items": null,
            "align_self": null,
            "border": null,
            "bottom": null,
            "display": null,
            "flex": null,
            "flex_flow": null,
            "grid_area": null,
            "grid_auto_columns": null,
            "grid_auto_flow": null,
            "grid_auto_rows": null,
            "grid_column": null,
            "grid_gap": null,
            "grid_row": null,
            "grid_template_areas": null,
            "grid_template_columns": null,
            "grid_template_rows": null,
            "height": null,
            "justify_content": null,
            "justify_items": null,
            "left": null,
            "margin": null,
            "max_height": null,
            "max_width": null,
            "min_height": null,
            "min_width": null,
            "object_fit": null,
            "object_position": null,
            "order": null,
            "overflow": null,
            "overflow_x": null,
            "overflow_y": null,
            "padding": null,
            "right": null,
            "top": null,
            "visibility": null,
            "width": null
          }
        },
        "c357758755624350bad62048f6e3f9b4": {
          "model_module": "@jupyter-widgets/controls",
          "model_name": "DescriptionStyleModel",
          "model_module_version": "1.5.0",
          "state": {
            "_model_module": "@jupyter-widgets/controls",
            "_model_module_version": "1.5.0",
            "_model_name": "DescriptionStyleModel",
            "_view_count": null,
            "_view_module": "@jupyter-widgets/base",
            "_view_module_version": "1.2.0",
            "_view_name": "StyleView",
            "description_width": ""
          }
        },
        "3ef3f7268e844e8aa1f599316c2468bd": {
          "model_module": "@jupyter-widgets/base",
          "model_name": "LayoutModel",
          "model_module_version": "1.2.0",
          "state": {
            "_model_module": "@jupyter-widgets/base",
            "_model_module_version": "1.2.0",
            "_model_name": "LayoutModel",
            "_view_count": null,
            "_view_module": "@jupyter-widgets/base",
            "_view_module_version": "1.2.0",
            "_view_name": "LayoutView",
            "align_content": null,
            "align_items": null,
            "align_self": null,
            "border": null,
            "bottom": null,
            "display": null,
            "flex": null,
            "flex_flow": null,
            "grid_area": null,
            "grid_auto_columns": null,
            "grid_auto_flow": null,
            "grid_auto_rows": null,
            "grid_column": null,
            "grid_gap": null,
            "grid_row": null,
            "grid_template_areas": null,
            "grid_template_columns": null,
            "grid_template_rows": null,
            "height": null,
            "justify_content": null,
            "justify_items": null,
            "left": null,
            "margin": null,
            "max_height": null,
            "max_width": null,
            "min_height": null,
            "min_width": null,
            "object_fit": null,
            "object_position": null,
            "order": null,
            "overflow": null,
            "overflow_x": null,
            "overflow_y": null,
            "padding": null,
            "right": null,
            "top": null,
            "visibility": null,
            "width": null
          }
        },
        "154488b08c804d27b9cf2b7726de5b27": {
          "model_module": "@jupyter-widgets/controls",
          "model_name": "DescriptionStyleModel",
          "model_module_version": "1.5.0",
          "state": {
            "_model_module": "@jupyter-widgets/controls",
            "_model_module_version": "1.5.0",
            "_model_name": "DescriptionStyleModel",
            "_view_count": null,
            "_view_module": "@jupyter-widgets/base",
            "_view_module_version": "1.2.0",
            "_view_name": "StyleView",
            "description_width": ""
          }
        },
        "765222fc717b414c94e27d441b837c4e": {
          "model_module": "@jupyter-widgets/controls",
          "model_name": "HBoxModel",
          "model_module_version": "1.5.0",
          "state": {
            "_dom_classes": [],
            "_model_module": "@jupyter-widgets/controls",
            "_model_module_version": "1.5.0",
            "_model_name": "HBoxModel",
            "_view_count": null,
            "_view_module": "@jupyter-widgets/controls",
            "_view_module_version": "1.5.0",
            "_view_name": "HBoxView",
            "box_style": "",
            "children": [
              "IPY_MODEL_5b4375d298bc41a6889723b59eb2ec85",
              "IPY_MODEL_58e8ec39504e46538903b79d08b4f3fd",
              "IPY_MODEL_76cc850817024ff69625fac62e4f1205"
            ],
            "layout": "IPY_MODEL_5ee1506db8454fa8bcdadc830117bd91"
          }
        },
        "5b4375d298bc41a6889723b59eb2ec85": {
          "model_module": "@jupyter-widgets/controls",
          "model_name": "HTMLModel",
          "model_module_version": "1.5.0",
          "state": {
            "_dom_classes": [],
            "_model_module": "@jupyter-widgets/controls",
            "_model_module_version": "1.5.0",
            "_model_name": "HTMLModel",
            "_view_count": null,
            "_view_module": "@jupyter-widgets/controls",
            "_view_module_version": "1.5.0",
            "_view_name": "HTMLView",
            "description": "",
            "description_tooltip": null,
            "layout": "IPY_MODEL_4123ee26af6c4c339c627866e57061a6",
            "placeholder": "​",
            "style": "IPY_MODEL_6305a2845605457dae2122c66db73b5e",
            "value": "Upload 2 LFS files: 100%"
          }
        },
        "58e8ec39504e46538903b79d08b4f3fd": {
          "model_module": "@jupyter-widgets/controls",
          "model_name": "FloatProgressModel",
          "model_module_version": "1.5.0",
          "state": {
            "_dom_classes": [],
            "_model_module": "@jupyter-widgets/controls",
            "_model_module_version": "1.5.0",
            "_model_name": "FloatProgressModel",
            "_view_count": null,
            "_view_module": "@jupyter-widgets/controls",
            "_view_module_version": "1.5.0",
            "_view_name": "ProgressView",
            "bar_style": "success",
            "description": "",
            "description_tooltip": null,
            "layout": "IPY_MODEL_0342450c72bb4c9d84f72b5becfdd67d",
            "max": 2,
            "min": 0,
            "orientation": "horizontal",
            "style": "IPY_MODEL_7d4b11ef1d8b490d8b599d3213cb7d3a",
            "value": 2
          }
        },
        "76cc850817024ff69625fac62e4f1205": {
          "model_module": "@jupyter-widgets/controls",
          "model_name": "HTMLModel",
          "model_module_version": "1.5.0",
          "state": {
            "_dom_classes": [],
            "_model_module": "@jupyter-widgets/controls",
            "_model_module_version": "1.5.0",
            "_model_name": "HTMLModel",
            "_view_count": null,
            "_view_module": "@jupyter-widgets/controls",
            "_view_module_version": "1.5.0",
            "_view_name": "HTMLView",
            "description": "",
            "description_tooltip": null,
            "layout": "IPY_MODEL_ff4f276f64cf4ccc8f80fc2b04ff02ec",
            "placeholder": "​",
            "style": "IPY_MODEL_37932f3c35a1436493fe0a0e56b943a9",
            "value": " 2/2 [00:07&lt;00:00,  7.30s/it]"
          }
        },
        "5ee1506db8454fa8bcdadc830117bd91": {
          "model_module": "@jupyter-widgets/base",
          "model_name": "LayoutModel",
          "model_module_version": "1.2.0",
          "state": {
            "_model_module": "@jupyter-widgets/base",
            "_model_module_version": "1.2.0",
            "_model_name": "LayoutModel",
            "_view_count": null,
            "_view_module": "@jupyter-widgets/base",
            "_view_module_version": "1.2.0",
            "_view_name": "LayoutView",
            "align_content": null,
            "align_items": null,
            "align_self": null,
            "border": null,
            "bottom": null,
            "display": null,
            "flex": null,
            "flex_flow": null,
            "grid_area": null,
            "grid_auto_columns": null,
            "grid_auto_flow": null,
            "grid_auto_rows": null,
            "grid_column": null,
            "grid_gap": null,
            "grid_row": null,
            "grid_template_areas": null,
            "grid_template_columns": null,
            "grid_template_rows": null,
            "height": null,
            "justify_content": null,
            "justify_items": null,
            "left": null,
            "margin": null,
            "max_height": null,
            "max_width": null,
            "min_height": null,
            "min_width": null,
            "object_fit": null,
            "object_position": null,
            "order": null,
            "overflow": null,
            "overflow_x": null,
            "overflow_y": null,
            "padding": null,
            "right": null,
            "top": null,
            "visibility": null,
            "width": null
          }
        },
        "4123ee26af6c4c339c627866e57061a6": {
          "model_module": "@jupyter-widgets/base",
          "model_name": "LayoutModel",
          "model_module_version": "1.2.0",
          "state": {
            "_model_module": "@jupyter-widgets/base",
            "_model_module_version": "1.2.0",
            "_model_name": "LayoutModel",
            "_view_count": null,
            "_view_module": "@jupyter-widgets/base",
            "_view_module_version": "1.2.0",
            "_view_name": "LayoutView",
            "align_content": null,
            "align_items": null,
            "align_self": null,
            "border": null,
            "bottom": null,
            "display": null,
            "flex": null,
            "flex_flow": null,
            "grid_area": null,
            "grid_auto_columns": null,
            "grid_auto_flow": null,
            "grid_auto_rows": null,
            "grid_column": null,
            "grid_gap": null,
            "grid_row": null,
            "grid_template_areas": null,
            "grid_template_columns": null,
            "grid_template_rows": null,
            "height": null,
            "justify_content": null,
            "justify_items": null,
            "left": null,
            "margin": null,
            "max_height": null,
            "max_width": null,
            "min_height": null,
            "min_width": null,
            "object_fit": null,
            "object_position": null,
            "order": null,
            "overflow": null,
            "overflow_x": null,
            "overflow_y": null,
            "padding": null,
            "right": null,
            "top": null,
            "visibility": null,
            "width": null
          }
        },
        "6305a2845605457dae2122c66db73b5e": {
          "model_module": "@jupyter-widgets/controls",
          "model_name": "DescriptionStyleModel",
          "model_module_version": "1.5.0",
          "state": {
            "_model_module": "@jupyter-widgets/controls",
            "_model_module_version": "1.5.0",
            "_model_name": "DescriptionStyleModel",
            "_view_count": null,
            "_view_module": "@jupyter-widgets/base",
            "_view_module_version": "1.2.0",
            "_view_name": "StyleView",
            "description_width": ""
          }
        },
        "0342450c72bb4c9d84f72b5becfdd67d": {
          "model_module": "@jupyter-widgets/base",
          "model_name": "LayoutModel",
          "model_module_version": "1.2.0",
          "state": {
            "_model_module": "@jupyter-widgets/base",
            "_model_module_version": "1.2.0",
            "_model_name": "LayoutModel",
            "_view_count": null,
            "_view_module": "@jupyter-widgets/base",
            "_view_module_version": "1.2.0",
            "_view_name": "LayoutView",
            "align_content": null,
            "align_items": null,
            "align_self": null,
            "border": null,
            "bottom": null,
            "display": null,
            "flex": null,
            "flex_flow": null,
            "grid_area": null,
            "grid_auto_columns": null,
            "grid_auto_flow": null,
            "grid_auto_rows": null,
            "grid_column": null,
            "grid_gap": null,
            "grid_row": null,
            "grid_template_areas": null,
            "grid_template_columns": null,
            "grid_template_rows": null,
            "height": null,
            "justify_content": null,
            "justify_items": null,
            "left": null,
            "margin": null,
            "max_height": null,
            "max_width": null,
            "min_height": null,
            "min_width": null,
            "object_fit": null,
            "object_position": null,
            "order": null,
            "overflow": null,
            "overflow_x": null,
            "overflow_y": null,
            "padding": null,
            "right": null,
            "top": null,
            "visibility": null,
            "width": null
          }
        },
        "7d4b11ef1d8b490d8b599d3213cb7d3a": {
          "model_module": "@jupyter-widgets/controls",
          "model_name": "ProgressStyleModel",
          "model_module_version": "1.5.0",
          "state": {
            "_model_module": "@jupyter-widgets/controls",
            "_model_module_version": "1.5.0",
            "_model_name": "ProgressStyleModel",
            "_view_count": null,
            "_view_module": "@jupyter-widgets/base",
            "_view_module_version": "1.2.0",
            "_view_name": "StyleView",
            "bar_color": null,
            "description_width": ""
          }
        },
        "ff4f276f64cf4ccc8f80fc2b04ff02ec": {
          "model_module": "@jupyter-widgets/base",
          "model_name": "LayoutModel",
          "model_module_version": "1.2.0",
          "state": {
            "_model_module": "@jupyter-widgets/base",
            "_model_module_version": "1.2.0",
            "_model_name": "LayoutModel",
            "_view_count": null,
            "_view_module": "@jupyter-widgets/base",
            "_view_module_version": "1.2.0",
            "_view_name": "LayoutView",
            "align_content": null,
            "align_items": null,
            "align_self": null,
            "border": null,
            "bottom": null,
            "display": null,
            "flex": null,
            "flex_flow": null,
            "grid_area": null,
            "grid_auto_columns": null,
            "grid_auto_flow": null,
            "grid_auto_rows": null,
            "grid_column": null,
            "grid_gap": null,
            "grid_row": null,
            "grid_template_areas": null,
            "grid_template_columns": null,
            "grid_template_rows": null,
            "height": null,
            "justify_content": null,
            "justify_items": null,
            "left": null,
            "margin": null,
            "max_height": null,
            "max_width": null,
            "min_height": null,
            "min_width": null,
            "object_fit": null,
            "object_position": null,
            "order": null,
            "overflow": null,
            "overflow_x": null,
            "overflow_y": null,
            "padding": null,
            "right": null,
            "top": null,
            "visibility": null,
            "width": null
          }
        },
        "37932f3c35a1436493fe0a0e56b943a9": {
          "model_module": "@jupyter-widgets/controls",
          "model_name": "DescriptionStyleModel",
          "model_module_version": "1.5.0",
          "state": {
            "_model_module": "@jupyter-widgets/controls",
            "_model_module_version": "1.5.0",
            "_model_name": "DescriptionStyleModel",
            "_view_count": null,
            "_view_module": "@jupyter-widgets/base",
            "_view_module_version": "1.2.0",
            "_view_name": "StyleView",
            "description_width": ""
          }
        },
        "52fcf47c4e4e4bee8ed30163342c8ab7": {
          "model_module": "@jupyter-widgets/controls",
          "model_name": "HBoxModel",
          "model_module_version": "1.5.0",
          "state": {
            "_dom_classes": [],
            "_model_module": "@jupyter-widgets/controls",
            "_model_module_version": "1.5.0",
            "_model_name": "HBoxModel",
            "_view_count": null,
            "_view_module": "@jupyter-widgets/controls",
            "_view_module_version": "1.5.0",
            "_view_name": "HBoxView",
            "box_style": "",
            "children": [
              "IPY_MODEL_9aea7aa6a5e24b02afc445495f790de8",
              "IPY_MODEL_b39a3974af84413197dd11c9269ee341",
              "IPY_MODEL_daad206be263439789a65f9bccf33812"
            ],
            "layout": "IPY_MODEL_00ff475144da4c379b653c782f1870f2"
          }
        },
        "9aea7aa6a5e24b02afc445495f790de8": {
          "model_module": "@jupyter-widgets/controls",
          "model_name": "HTMLModel",
          "model_module_version": "1.5.0",
          "state": {
            "_dom_classes": [],
            "_model_module": "@jupyter-widgets/controls",
            "_model_module_version": "1.5.0",
            "_model_name": "HTMLModel",
            "_view_count": null,
            "_view_module": "@jupyter-widgets/controls",
            "_view_module_version": "1.5.0",
            "_view_name": "HTMLView",
            "description": "",
            "description_tooltip": null,
            "layout": "IPY_MODEL_4f347b9b17bc429f9f32a62f4be4d906",
            "placeholder": "​",
            "style": "IPY_MODEL_a580c0e0226d4d2280b82989aa77c1b2",
            "value": "training_args.bin: 100%"
          }
        },
        "b39a3974af84413197dd11c9269ee341": {
          "model_module": "@jupyter-widgets/controls",
          "model_name": "FloatProgressModel",
          "model_module_version": "1.5.0",
          "state": {
            "_dom_classes": [],
            "_model_module": "@jupyter-widgets/controls",
            "_model_module_version": "1.5.0",
            "_model_name": "FloatProgressModel",
            "_view_count": null,
            "_view_module": "@jupyter-widgets/controls",
            "_view_module_version": "1.5.0",
            "_view_name": "ProgressView",
            "bar_style": "success",
            "description": "",
            "description_tooltip": null,
            "layout": "IPY_MODEL_182edee84ad84b2ba8ba76c22942b907",
            "max": 4600,
            "min": 0,
            "orientation": "horizontal",
            "style": "IPY_MODEL_d85766be68c848d5866e5b5571b8a2a2",
            "value": 4600
          }
        },
        "daad206be263439789a65f9bccf33812": {
          "model_module": "@jupyter-widgets/controls",
          "model_name": "HTMLModel",
          "model_module_version": "1.5.0",
          "state": {
            "_dom_classes": [],
            "_model_module": "@jupyter-widgets/controls",
            "_model_module_version": "1.5.0",
            "_model_name": "HTMLModel",
            "_view_count": null,
            "_view_module": "@jupyter-widgets/controls",
            "_view_module_version": "1.5.0",
            "_view_name": "HTMLView",
            "description": "",
            "description_tooltip": null,
            "layout": "IPY_MODEL_0a3198ac9fb44fec9a4e59e49ece7b51",
            "placeholder": "​",
            "style": "IPY_MODEL_f89a740c32584c71b4c53c768b7d272c",
            "value": " 4.60k/4.60k [00:00&lt;00:00, 8.22kB/s]"
          }
        },
        "00ff475144da4c379b653c782f1870f2": {
          "model_module": "@jupyter-widgets/base",
          "model_name": "LayoutModel",
          "model_module_version": "1.2.0",
          "state": {
            "_model_module": "@jupyter-widgets/base",
            "_model_module_version": "1.2.0",
            "_model_name": "LayoutModel",
            "_view_count": null,
            "_view_module": "@jupyter-widgets/base",
            "_view_module_version": "1.2.0",
            "_view_name": "LayoutView",
            "align_content": null,
            "align_items": null,
            "align_self": null,
            "border": null,
            "bottom": null,
            "display": null,
            "flex": null,
            "flex_flow": null,
            "grid_area": null,
            "grid_auto_columns": null,
            "grid_auto_flow": null,
            "grid_auto_rows": null,
            "grid_column": null,
            "grid_gap": null,
            "grid_row": null,
            "grid_template_areas": null,
            "grid_template_columns": null,
            "grid_template_rows": null,
            "height": null,
            "justify_content": null,
            "justify_items": null,
            "left": null,
            "margin": null,
            "max_height": null,
            "max_width": null,
            "min_height": null,
            "min_width": null,
            "object_fit": null,
            "object_position": null,
            "order": null,
            "overflow": null,
            "overflow_x": null,
            "overflow_y": null,
            "padding": null,
            "right": null,
            "top": null,
            "visibility": null,
            "width": null
          }
        },
        "4f347b9b17bc429f9f32a62f4be4d906": {
          "model_module": "@jupyter-widgets/base",
          "model_name": "LayoutModel",
          "model_module_version": "1.2.0",
          "state": {
            "_model_module": "@jupyter-widgets/base",
            "_model_module_version": "1.2.0",
            "_model_name": "LayoutModel",
            "_view_count": null,
            "_view_module": "@jupyter-widgets/base",
            "_view_module_version": "1.2.0",
            "_view_name": "LayoutView",
            "align_content": null,
            "align_items": null,
            "align_self": null,
            "border": null,
            "bottom": null,
            "display": null,
            "flex": null,
            "flex_flow": null,
            "grid_area": null,
            "grid_auto_columns": null,
            "grid_auto_flow": null,
            "grid_auto_rows": null,
            "grid_column": null,
            "grid_gap": null,
            "grid_row": null,
            "grid_template_areas": null,
            "grid_template_columns": null,
            "grid_template_rows": null,
            "height": null,
            "justify_content": null,
            "justify_items": null,
            "left": null,
            "margin": null,
            "max_height": null,
            "max_width": null,
            "min_height": null,
            "min_width": null,
            "object_fit": null,
            "object_position": null,
            "order": null,
            "overflow": null,
            "overflow_x": null,
            "overflow_y": null,
            "padding": null,
            "right": null,
            "top": null,
            "visibility": null,
            "width": null
          }
        },
        "a580c0e0226d4d2280b82989aa77c1b2": {
          "model_module": "@jupyter-widgets/controls",
          "model_name": "DescriptionStyleModel",
          "model_module_version": "1.5.0",
          "state": {
            "_model_module": "@jupyter-widgets/controls",
            "_model_module_version": "1.5.0",
            "_model_name": "DescriptionStyleModel",
            "_view_count": null,
            "_view_module": "@jupyter-widgets/base",
            "_view_module_version": "1.2.0",
            "_view_name": "StyleView",
            "description_width": ""
          }
        },
        "182edee84ad84b2ba8ba76c22942b907": {
          "model_module": "@jupyter-widgets/base",
          "model_name": "LayoutModel",
          "model_module_version": "1.2.0",
          "state": {
            "_model_module": "@jupyter-widgets/base",
            "_model_module_version": "1.2.0",
            "_model_name": "LayoutModel",
            "_view_count": null,
            "_view_module": "@jupyter-widgets/base",
            "_view_module_version": "1.2.0",
            "_view_name": "LayoutView",
            "align_content": null,
            "align_items": null,
            "align_self": null,
            "border": null,
            "bottom": null,
            "display": null,
            "flex": null,
            "flex_flow": null,
            "grid_area": null,
            "grid_auto_columns": null,
            "grid_auto_flow": null,
            "grid_auto_rows": null,
            "grid_column": null,
            "grid_gap": null,
            "grid_row": null,
            "grid_template_areas": null,
            "grid_template_columns": null,
            "grid_template_rows": null,
            "height": null,
            "justify_content": null,
            "justify_items": null,
            "left": null,
            "margin": null,
            "max_height": null,
            "max_width": null,
            "min_height": null,
            "min_width": null,
            "object_fit": null,
            "object_position": null,
            "order": null,
            "overflow": null,
            "overflow_x": null,
            "overflow_y": null,
            "padding": null,
            "right": null,
            "top": null,
            "visibility": null,
            "width": null
          }
        },
        "d85766be68c848d5866e5b5571b8a2a2": {
          "model_module": "@jupyter-widgets/controls",
          "model_name": "ProgressStyleModel",
          "model_module_version": "1.5.0",
          "state": {
            "_model_module": "@jupyter-widgets/controls",
            "_model_module_version": "1.5.0",
            "_model_name": "ProgressStyleModel",
            "_view_count": null,
            "_view_module": "@jupyter-widgets/base",
            "_view_module_version": "1.2.0",
            "_view_name": "StyleView",
            "bar_color": null,
            "description_width": ""
          }
        },
        "0a3198ac9fb44fec9a4e59e49ece7b51": {
          "model_module": "@jupyter-widgets/base",
          "model_name": "LayoutModel",
          "model_module_version": "1.2.0",
          "state": {
            "_model_module": "@jupyter-widgets/base",
            "_model_module_version": "1.2.0",
            "_model_name": "LayoutModel",
            "_view_count": null,
            "_view_module": "@jupyter-widgets/base",
            "_view_module_version": "1.2.0",
            "_view_name": "LayoutView",
            "align_content": null,
            "align_items": null,
            "align_self": null,
            "border": null,
            "bottom": null,
            "display": null,
            "flex": null,
            "flex_flow": null,
            "grid_area": null,
            "grid_auto_columns": null,
            "grid_auto_flow": null,
            "grid_auto_rows": null,
            "grid_column": null,
            "grid_gap": null,
            "grid_row": null,
            "grid_template_areas": null,
            "grid_template_columns": null,
            "grid_template_rows": null,
            "height": null,
            "justify_content": null,
            "justify_items": null,
            "left": null,
            "margin": null,
            "max_height": null,
            "max_width": null,
            "min_height": null,
            "min_width": null,
            "object_fit": null,
            "object_position": null,
            "order": null,
            "overflow": null,
            "overflow_x": null,
            "overflow_y": null,
            "padding": null,
            "right": null,
            "top": null,
            "visibility": null,
            "width": null
          }
        },
        "f89a740c32584c71b4c53c768b7d272c": {
          "model_module": "@jupyter-widgets/controls",
          "model_name": "DescriptionStyleModel",
          "model_module_version": "1.5.0",
          "state": {
            "_model_module": "@jupyter-widgets/controls",
            "_model_module_version": "1.5.0",
            "_model_name": "DescriptionStyleModel",
            "_view_count": null,
            "_view_module": "@jupyter-widgets/base",
            "_view_module_version": "1.2.0",
            "_view_name": "StyleView",
            "description_width": ""
          }
        },
        "6feb57ffb86341a8a47211942e8085a6": {
          "model_module": "@jupyter-widgets/controls",
          "model_name": "HBoxModel",
          "model_module_version": "1.5.0",
          "state": {
            "_dom_classes": [],
            "_model_module": "@jupyter-widgets/controls",
            "_model_module_version": "1.5.0",
            "_model_name": "HBoxModel",
            "_view_count": null,
            "_view_module": "@jupyter-widgets/controls",
            "_view_module_version": "1.5.0",
            "_view_name": "HBoxView",
            "box_style": "",
            "children": [
              "IPY_MODEL_1bbee72fa3d5410d9fe41e735c453a14",
              "IPY_MODEL_ec764cfbfb7c433aa5469a038ddb4f5f",
              "IPY_MODEL_d5fdef0ad58b456a97dc369cd4bdabf9"
            ],
            "layout": "IPY_MODEL_dfeb9de5a2d04c1ca037674269005dae"
          }
        },
        "1bbee72fa3d5410d9fe41e735c453a14": {
          "model_module": "@jupyter-widgets/controls",
          "model_name": "HTMLModel",
          "model_module_version": "1.5.0",
          "state": {
            "_dom_classes": [],
            "_model_module": "@jupyter-widgets/controls",
            "_model_module_version": "1.5.0",
            "_model_name": "HTMLModel",
            "_view_count": null,
            "_view_module": "@jupyter-widgets/controls",
            "_view_module_version": "1.5.0",
            "_view_name": "HTMLView",
            "description": "",
            "description_tooltip": null,
            "layout": "IPY_MODEL_bd8e2d7dc6474f7387fa3f409acdebc6",
            "placeholder": "​",
            "style": "IPY_MODEL_95327b65eb154b31b30e3f4008ba4129",
            "value": "model.safetensors: 100%"
          }
        },
        "ec764cfbfb7c433aa5469a038ddb4f5f": {
          "model_module": "@jupyter-widgets/controls",
          "model_name": "FloatProgressModel",
          "model_module_version": "1.5.0",
          "state": {
            "_dom_classes": [],
            "_model_module": "@jupyter-widgets/controls",
            "_model_module_version": "1.5.0",
            "_model_name": "FloatProgressModel",
            "_view_count": null,
            "_view_module": "@jupyter-widgets/controls",
            "_view_module_version": "1.5.0",
            "_view_name": "ProgressView",
            "bar_style": "success",
            "description": "",
            "description_tooltip": null,
            "layout": "IPY_MODEL_99157c182af24e85b9e5d50cdbc02f66",
            "max": 267954768,
            "min": 0,
            "orientation": "horizontal",
            "style": "IPY_MODEL_c23443eb874f48638bd85d514b64afc8",
            "value": 267954768
          }
        },
        "d5fdef0ad58b456a97dc369cd4bdabf9": {
          "model_module": "@jupyter-widgets/controls",
          "model_name": "HTMLModel",
          "model_module_version": "1.5.0",
          "state": {
            "_dom_classes": [],
            "_model_module": "@jupyter-widgets/controls",
            "_model_module_version": "1.5.0",
            "_model_name": "HTMLModel",
            "_view_count": null,
            "_view_module": "@jupyter-widgets/controls",
            "_view_module_version": "1.5.0",
            "_view_name": "HTMLView",
            "description": "",
            "description_tooltip": null,
            "layout": "IPY_MODEL_212ec21ee34d43a28659fc0041322f3a",
            "placeholder": "​",
            "style": "IPY_MODEL_21282a76524f4f7293f0c06ca8472f5c",
            "value": " 268M/268M [00:06&lt;00:00, 46.9MB/s]"
          }
        },
        "dfeb9de5a2d04c1ca037674269005dae": {
          "model_module": "@jupyter-widgets/base",
          "model_name": "LayoutModel",
          "model_module_version": "1.2.0",
          "state": {
            "_model_module": "@jupyter-widgets/base",
            "_model_module_version": "1.2.0",
            "_model_name": "LayoutModel",
            "_view_count": null,
            "_view_module": "@jupyter-widgets/base",
            "_view_module_version": "1.2.0",
            "_view_name": "LayoutView",
            "align_content": null,
            "align_items": null,
            "align_self": null,
            "border": null,
            "bottom": null,
            "display": null,
            "flex": null,
            "flex_flow": null,
            "grid_area": null,
            "grid_auto_columns": null,
            "grid_auto_flow": null,
            "grid_auto_rows": null,
            "grid_column": null,
            "grid_gap": null,
            "grid_row": null,
            "grid_template_areas": null,
            "grid_template_columns": null,
            "grid_template_rows": null,
            "height": null,
            "justify_content": null,
            "justify_items": null,
            "left": null,
            "margin": null,
            "max_height": null,
            "max_width": null,
            "min_height": null,
            "min_width": null,
            "object_fit": null,
            "object_position": null,
            "order": null,
            "overflow": null,
            "overflow_x": null,
            "overflow_y": null,
            "padding": null,
            "right": null,
            "top": null,
            "visibility": null,
            "width": null
          }
        },
        "bd8e2d7dc6474f7387fa3f409acdebc6": {
          "model_module": "@jupyter-widgets/base",
          "model_name": "LayoutModel",
          "model_module_version": "1.2.0",
          "state": {
            "_model_module": "@jupyter-widgets/base",
            "_model_module_version": "1.2.0",
            "_model_name": "LayoutModel",
            "_view_count": null,
            "_view_module": "@jupyter-widgets/base",
            "_view_module_version": "1.2.0",
            "_view_name": "LayoutView",
            "align_content": null,
            "align_items": null,
            "align_self": null,
            "border": null,
            "bottom": null,
            "display": null,
            "flex": null,
            "flex_flow": null,
            "grid_area": null,
            "grid_auto_columns": null,
            "grid_auto_flow": null,
            "grid_auto_rows": null,
            "grid_column": null,
            "grid_gap": null,
            "grid_row": null,
            "grid_template_areas": null,
            "grid_template_columns": null,
            "grid_template_rows": null,
            "height": null,
            "justify_content": null,
            "justify_items": null,
            "left": null,
            "margin": null,
            "max_height": null,
            "max_width": null,
            "min_height": null,
            "min_width": null,
            "object_fit": null,
            "object_position": null,
            "order": null,
            "overflow": null,
            "overflow_x": null,
            "overflow_y": null,
            "padding": null,
            "right": null,
            "top": null,
            "visibility": null,
            "width": null
          }
        },
        "95327b65eb154b31b30e3f4008ba4129": {
          "model_module": "@jupyter-widgets/controls",
          "model_name": "DescriptionStyleModel",
          "model_module_version": "1.5.0",
          "state": {
            "_model_module": "@jupyter-widgets/controls",
            "_model_module_version": "1.5.0",
            "_model_name": "DescriptionStyleModel",
            "_view_count": null,
            "_view_module": "@jupyter-widgets/base",
            "_view_module_version": "1.2.0",
            "_view_name": "StyleView",
            "description_width": ""
          }
        },
        "99157c182af24e85b9e5d50cdbc02f66": {
          "model_module": "@jupyter-widgets/base",
          "model_name": "LayoutModel",
          "model_module_version": "1.2.0",
          "state": {
            "_model_module": "@jupyter-widgets/base",
            "_model_module_version": "1.2.0",
            "_model_name": "LayoutModel",
            "_view_count": null,
            "_view_module": "@jupyter-widgets/base",
            "_view_module_version": "1.2.0",
            "_view_name": "LayoutView",
            "align_content": null,
            "align_items": null,
            "align_self": null,
            "border": null,
            "bottom": null,
            "display": null,
            "flex": null,
            "flex_flow": null,
            "grid_area": null,
            "grid_auto_columns": null,
            "grid_auto_flow": null,
            "grid_auto_rows": null,
            "grid_column": null,
            "grid_gap": null,
            "grid_row": null,
            "grid_template_areas": null,
            "grid_template_columns": null,
            "grid_template_rows": null,
            "height": null,
            "justify_content": null,
            "justify_items": null,
            "left": null,
            "margin": null,
            "max_height": null,
            "max_width": null,
            "min_height": null,
            "min_width": null,
            "object_fit": null,
            "object_position": null,
            "order": null,
            "overflow": null,
            "overflow_x": null,
            "overflow_y": null,
            "padding": null,
            "right": null,
            "top": null,
            "visibility": null,
            "width": null
          }
        },
        "c23443eb874f48638bd85d514b64afc8": {
          "model_module": "@jupyter-widgets/controls",
          "model_name": "ProgressStyleModel",
          "model_module_version": "1.5.0",
          "state": {
            "_model_module": "@jupyter-widgets/controls",
            "_model_module_version": "1.5.0",
            "_model_name": "ProgressStyleModel",
            "_view_count": null,
            "_view_module": "@jupyter-widgets/base",
            "_view_module_version": "1.2.0",
            "_view_name": "StyleView",
            "bar_color": null,
            "description_width": ""
          }
        },
        "212ec21ee34d43a28659fc0041322f3a": {
          "model_module": "@jupyter-widgets/base",
          "model_name": "LayoutModel",
          "model_module_version": "1.2.0",
          "state": {
            "_model_module": "@jupyter-widgets/base",
            "_model_module_version": "1.2.0",
            "_model_name": "LayoutModel",
            "_view_count": null,
            "_view_module": "@jupyter-widgets/base",
            "_view_module_version": "1.2.0",
            "_view_name": "LayoutView",
            "align_content": null,
            "align_items": null,
            "align_self": null,
            "border": null,
            "bottom": null,
            "display": null,
            "flex": null,
            "flex_flow": null,
            "grid_area": null,
            "grid_auto_columns": null,
            "grid_auto_flow": null,
            "grid_auto_rows": null,
            "grid_column": null,
            "grid_gap": null,
            "grid_row": null,
            "grid_template_areas": null,
            "grid_template_columns": null,
            "grid_template_rows": null,
            "height": null,
            "justify_content": null,
            "justify_items": null,
            "left": null,
            "margin": null,
            "max_height": null,
            "max_width": null,
            "min_height": null,
            "min_width": null,
            "object_fit": null,
            "object_position": null,
            "order": null,
            "overflow": null,
            "overflow_x": null,
            "overflow_y": null,
            "padding": null,
            "right": null,
            "top": null,
            "visibility": null,
            "width": null
          }
        },
        "21282a76524f4f7293f0c06ca8472f5c": {
          "model_module": "@jupyter-widgets/controls",
          "model_name": "DescriptionStyleModel",
          "model_module_version": "1.5.0",
          "state": {
            "_model_module": "@jupyter-widgets/controls",
            "_model_module_version": "1.5.0",
            "_model_name": "DescriptionStyleModel",
            "_view_count": null,
            "_view_module": "@jupyter-widgets/base",
            "_view_module_version": "1.2.0",
            "_view_name": "StyleView",
            "description_width": ""
          }
        }
      }
    }
  },
  "cells": [
    {
      "cell_type": "markdown",
      "source": [
        "# Fine-tuning a masked language model\n",
        "\n",
        "Dataset : IMDB dataset\n"
      ],
      "metadata": {
        "id": "RkBDrMFJJ1WG"
      }
    },
    {
      "cell_type": "code",
      "execution_count": 1,
      "metadata": {
        "id": "xtR1Cvrcixy7"
      },
      "outputs": [],
      "source": [
        "from transformers import AutoModelForMaskedLM\n",
        "\n",
        "model_checkpoint = \"distilbert-base-uncased\"\n",
        "model = AutoModelForMaskedLM.from_pretrained(model_checkpoint)"
      ]
    },
    {
      "cell_type": "markdown",
      "source": [
        "DistilBERT was pretrained on the English Wikipedia and BookCorpus datasets, so we expect the predictions for [MASK] to reflect these domains."
      ],
      "metadata": {
        "id": "iNRJ3nzEL0ad"
      }
    },
    {
      "cell_type": "code",
      "source": [
        "from transformers import AutoTokenizer\n",
        "\n",
        "tokenizer = AutoTokenizer.from_pretrained(model_checkpoint)"
      ],
      "metadata": {
        "id": "AccdHP10LzOu"
      },
      "execution_count": 2,
      "outputs": []
    },
    {
      "cell_type": "markdown",
      "source": [
        "# Dataset"
      ],
      "metadata": {
        "id": "7CZ6Y51LMILO"
      }
    },
    {
      "cell_type": "code",
      "source": [
        "!pip install datasets"
      ],
      "metadata": {
        "id": "cJivu65mMLlC"
      },
      "execution_count": null,
      "outputs": []
    },
    {
      "cell_type": "code",
      "source": [
        "from datasets import load_dataset\n",
        "\n",
        "imdb_dataset = load_dataset(\"imdb\")\n",
        "imdb_dataset"
      ],
      "metadata": {
        "id": "xVopyATuL7Y1",
        "colab": {
          "base_uri": "https://localhost:8080/"
        },
        "outputId": "a56d6ee3-9fbf-4a86-ad9a-27ba319f6dde"
      },
      "execution_count": 4,
      "outputs": [
        {
          "output_type": "execute_result",
          "data": {
            "text/plain": [
              "DatasetDict({\n",
              "    train: Dataset({\n",
              "        features: ['text', 'label'],\n",
              "        num_rows: 25000\n",
              "    })\n",
              "    test: Dataset({\n",
              "        features: ['text', 'label'],\n",
              "        num_rows: 25000\n",
              "    })\n",
              "    unsupervised: Dataset({\n",
              "        features: ['text', 'label'],\n",
              "        num_rows: 50000\n",
              "    })\n",
              "})"
            ]
          },
          "metadata": {},
          "execution_count": 4
        }
      ]
    },
    {
      "cell_type": "code",
      "source": [
        "imdb_dataset"
      ],
      "metadata": {
        "colab": {
          "base_uri": "https://localhost:8080/"
        },
        "id": "2dZCzeGvxg4s",
        "outputId": "566cf515-e534-438e-cd28-409643725380"
      },
      "execution_count": 5,
      "outputs": [
        {
          "output_type": "execute_result",
          "data": {
            "text/plain": [
              "DatasetDict({\n",
              "    train: Dataset({\n",
              "        features: ['text', 'label'],\n",
              "        num_rows: 25000\n",
              "    })\n",
              "    test: Dataset({\n",
              "        features: ['text', 'label'],\n",
              "        num_rows: 25000\n",
              "    })\n",
              "    unsupervised: Dataset({\n",
              "        features: ['text', 'label'],\n",
              "        num_rows: 50000\n",
              "    })\n",
              "})"
            ]
          },
          "metadata": {},
          "execution_count": 5
        }
      ]
    },
    {
      "cell_type": "code",
      "source": [
        "imdb_dataset['train'][0]"
      ],
      "metadata": {
        "colab": {
          "base_uri": "https://localhost:8080/"
        },
        "id": "3RzM4vmYMJjW",
        "outputId": "8755412d-a976-44f0-bc34-9b7e7c04dc50"
      },
      "execution_count": 6,
      "outputs": [
        {
          "output_type": "execute_result",
          "data": {
            "text/plain": [
              "{'text': 'I rented I AM CURIOUS-YELLOW from my video store because of all the controversy that surrounded it when it was first released in 1967. I also heard that at first it was seized by U.S. customs if it ever tried to enter this country, therefore being a fan of films considered \"controversial\" I really had to see this for myself.<br /><br />The plot is centered around a young Swedish drama student named Lena who wants to learn everything she can about life. In particular she wants to focus her attentions to making some sort of documentary on what the average Swede thought about certain political issues such as the Vietnam War and race issues in the United States. In between asking politicians and ordinary denizens of Stockholm about their opinions on politics, she has sex with her drama teacher, classmates, and married men.<br /><br />What kills me about I AM CURIOUS-YELLOW is that 40 years ago, this was considered pornographic. Really, the sex and nudity scenes are few and far between, even then it\\'s not shot like some cheaply made porno. While my countrymen mind find it shocking, in reality sex and nudity are a major staple in Swedish cinema. Even Ingmar Bergman, arguably their answer to good old boy John Ford, had sex scenes in his films.<br /><br />I do commend the filmmakers for the fact that any sex shown in the film is shown for artistic purposes rather than just to shock people and make money to be shown in pornographic theaters in America. I AM CURIOUS-YELLOW is a good film for anyone wanting to study the meat and potatoes (no pun intended) of Swedish cinema. But really, this film doesn\\'t have much of a plot.',\n",
              " 'label': 0}"
            ]
          },
          "metadata": {},
          "execution_count": 6
        }
      ]
    },
    {
      "cell_type": "markdown",
      "source": [
        "# Data preprocessing"
      ],
      "metadata": {
        "id": "GUMIxdB1MpmM"
      }
    },
    {
      "cell_type": "markdown",
      "source": [
        "As we are having our texts of various lengths, we will concatenate them all and then taking chunks of context length and for the leftover part whose length is less than context length we will apply padding\n",
        "\n",
        "![image.png](data:image/png;base64,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)"
      ],
      "metadata": {
        "id": "V-OJCPxtQYbV"
      }
    },
    {
      "cell_type": "code",
      "source": [
        "print(tokenizer.eos_token_id)"
      ],
      "metadata": {
        "colab": {
          "base_uri": "https://localhost:8080/"
        },
        "id": "SNZhHTTVR6pe",
        "outputId": "6dd2d089-620f-444f-f4e9-1bf820b83a57"
      },
      "execution_count": 7,
      "outputs": [
        {
          "output_type": "stream",
          "name": "stdout",
          "text": [
            "None\n"
          ]
        }
      ]
    },
    {
      "cell_type": "code",
      "source": [
        "# Visualization\n",
        "examples = imdb_dataset['train'][0:2]\n",
        "result = tokenizer(examples['text'])"
      ],
      "metadata": {
        "id": "3Ep-vle5x6vV"
      },
      "execution_count": 8,
      "outputs": []
    },
    {
      "cell_type": "code",
      "source": [
        "result"
      ],
      "metadata": {
        "colab": {
          "base_uri": "https://localhost:8080/"
        },
        "id": "tvCAW4PwyW9B",
        "outputId": "992440e4-14c5-4106-aeee-e139727e45a9"
      },
      "execution_count": 9,
      "outputs": [
        {
          "output_type": "execute_result",
          "data": {
            "text/plain": [
              "{'input_ids': [[101, 1045, 12524, 1045, 2572, 8025, 1011, 3756, 2013, 2026, 2678, 3573, 2138, 1997, 2035, 1996, 6704, 2008, 5129, 2009, 2043, 2009, 2001, 2034, 2207, 1999, 3476, 1012, 1045, 2036, 2657, 2008, 2012, 2034, 2009, 2001, 8243, 2011, 1057, 1012, 1055, 1012, 8205, 2065, 2009, 2412, 2699, 2000, 4607, 2023, 2406, 1010, 3568, 2108, 1037, 5470, 1997, 3152, 2641, 1000, 6801, 1000, 1045, 2428, 2018, 2000, 2156, 2023, 2005, 2870, 1012, 1026, 7987, 1013, 1028, 1026, 7987, 1013, 1028, 1996, 5436, 2003, 8857, 2105, 1037, 2402, 4467, 3689, 3076, 2315, 14229, 2040, 4122, 2000, 4553, 2673, 2016, 2064, 2055, 2166, 1012, 1999, 3327, 2016, 4122, 2000, 3579, 2014, 3086, 2015, 2000, 2437, 2070, 4066, 1997, 4516, 2006, 2054, 1996, 2779, 25430, 14728, 2245, 2055, 3056, 2576, 3314, 2107, 2004, 1996, 5148, 2162, 1998, 2679, 3314, 1999, 1996, 2142, 2163, 1012, 1999, 2090, 4851, 8801, 1998, 6623, 7939, 4697, 3619, 1997, 8947, 2055, 2037, 10740, 2006, 4331, 1010, 2016, 2038, 3348, 2007, 2014, 3689, 3836, 1010, 19846, 1010, 1998, 2496, 2273, 1012, 1026, 7987, 1013, 1028, 1026, 7987, 1013, 1028, 2054, 8563, 2033, 2055, 1045, 2572, 8025, 1011, 3756, 2003, 2008, 2871, 2086, 3283, 1010, 2023, 2001, 2641, 26932, 1012, 2428, 1010, 1996, 3348, 1998, 16371, 25469, 5019, 2024, 2261, 1998, 2521, 2090, 1010, 2130, 2059, 2009, 1005, 1055, 2025, 2915, 2066, 2070, 10036, 2135, 2081, 22555, 2080, 1012, 2096, 2026, 2406, 3549, 2568, 2424, 2009, 16880, 1010, 1999, 4507, 3348, 1998, 16371, 25469, 2024, 1037, 2350, 18785, 1999, 4467, 5988, 1012, 2130, 13749, 7849, 24544, 1010, 15835, 2037, 3437, 2000, 2204, 2214, 2879, 2198, 4811, 1010, 2018, 3348, 5019, 1999, 2010, 3152, 1012, 1026, 7987, 1013, 1028, 1026, 7987, 1013, 1028, 1045, 2079, 4012, 3549, 2094, 1996, 16587, 2005, 1996, 2755, 2008, 2151, 3348, 3491, 1999, 1996, 2143, 2003, 3491, 2005, 6018, 5682, 2738, 2084, 2074, 2000, 5213, 2111, 1998, 2191, 2769, 2000, 2022, 3491, 1999, 26932, 12370, 1999, 2637, 1012, 1045, 2572, 8025, 1011, 3756, 2003, 1037, 2204, 2143, 2005, 3087, 5782, 2000, 2817, 1996, 6240, 1998, 14629, 1006, 2053, 26136, 3832, 1007, 1997, 4467, 5988, 1012, 2021, 2428, 1010, 2023, 2143, 2987, 1005, 1056, 2031, 2172, 1997, 1037, 5436, 1012, 102], [101, 1000, 1045, 2572, 8025, 1024, 3756, 1000, 2003, 1037, 15544, 19307, 1998, 3653, 6528, 20771, 19986, 8632, 1012, 2009, 2987, 1005, 1056, 3043, 2054, 2028, 1005, 1055, 2576, 5328, 2024, 2138, 2023, 2143, 2064, 6684, 2022, 2579, 5667, 2006, 2151, 2504, 1012, 2004, 2005, 1996, 4366, 2008, 19124, 3287, 16371, 25469, 2003, 2019, 6882, 13316, 1011, 2459, 1010, 2008, 3475, 1005, 1056, 2995, 1012, 1045, 1005, 2310, 2464, 1054, 1011, 6758, 3152, 2007, 3287, 16371, 25469, 1012, 4379, 1010, 2027, 2069, 3749, 2070, 25085, 5328, 1010, 2021, 2073, 2024, 1996, 1054, 1011, 6758, 3152, 2007, 21226, 24728, 22144, 2015, 1998, 20916, 4691, 6845, 2401, 1029, 7880, 1010, 2138, 2027, 2123, 1005, 1056, 4839, 1012, 1996, 2168, 3632, 2005, 2216, 10231, 7685, 5830, 3065, 1024, 8040, 7317, 5063, 2015, 11820, 1999, 1996, 9478, 2021, 2025, 1037, 17962, 21239, 1999, 4356, 1012, 1998, 2216, 3653, 6528, 20771, 10271, 5691, 2066, 1996, 2829, 16291, 1010, 1999, 2029, 2057, 1005, 2128, 5845, 2000, 1996, 2609, 1997, 6320, 25624, 1005, 1055, 17061, 3779, 1010, 2021, 2025, 1037, 7637, 1997, 5061, 5710, 2006, 9318, 7367, 5737, 19393, 1012, 2077, 6933, 1006, 2030, 20242, 1007, 1000, 3313, 1011, 3115, 1000, 1999, 5609, 1997, 16371, 25469, 1010, 1996, 10597, 27885, 5809, 2063, 2323, 2202, 2046, 4070, 2028, 14477, 6767, 8524, 6321, 5793, 28141, 4489, 2090, 2273, 1998, 2308, 1024, 2045, 2024, 2053, 8991, 18400, 2015, 2006, 4653, 2043, 19910, 3544, 15287, 1010, 1998, 1996, 2168, 3685, 2022, 2056, 2005, 1037, 2158, 1012, 1999, 2755, 1010, 2017, 3227, 2180, 1005, 1056, 2156, 2931, 8991, 18400, 2015, 1999, 2019, 2137, 2143, 1999, 2505, 2460, 1997, 22555, 2030, 13216, 14253, 2050, 1012, 2023, 6884, 3313, 1011, 3115, 2003, 2625, 1037, 3313, 3115, 2084, 2019, 4914, 2135, 2139, 24128, 3754, 2000, 2272, 2000, 3408, 20547, 2007, 1996, 19008, 1997, 2308, 1005, 1055, 4230, 1012, 102]], 'attention_mask': [[1, 1, 1, 1, 1, 1, 1, 1, 1, 1, 1, 1, 1, 1, 1, 1, 1, 1, 1, 1, 1, 1, 1, 1, 1, 1, 1, 1, 1, 1, 1, 1, 1, 1, 1, 1, 1, 1, 1, 1, 1, 1, 1, 1, 1, 1, 1, 1, 1, 1, 1, 1, 1, 1, 1, 1, 1, 1, 1, 1, 1, 1, 1, 1, 1, 1, 1, 1, 1, 1, 1, 1, 1, 1, 1, 1, 1, 1, 1, 1, 1, 1, 1, 1, 1, 1, 1, 1, 1, 1, 1, 1, 1, 1, 1, 1, 1, 1, 1, 1, 1, 1, 1, 1, 1, 1, 1, 1, 1, 1, 1, 1, 1, 1, 1, 1, 1, 1, 1, 1, 1, 1, 1, 1, 1, 1, 1, 1, 1, 1, 1, 1, 1, 1, 1, 1, 1, 1, 1, 1, 1, 1, 1, 1, 1, 1, 1, 1, 1, 1, 1, 1, 1, 1, 1, 1, 1, 1, 1, 1, 1, 1, 1, 1, 1, 1, 1, 1, 1, 1, 1, 1, 1, 1, 1, 1, 1, 1, 1, 1, 1, 1, 1, 1, 1, 1, 1, 1, 1, 1, 1, 1, 1, 1, 1, 1, 1, 1, 1, 1, 1, 1, 1, 1, 1, 1, 1, 1, 1, 1, 1, 1, 1, 1, 1, 1, 1, 1, 1, 1, 1, 1, 1, 1, 1, 1, 1, 1, 1, 1, 1, 1, 1, 1, 1, 1, 1, 1, 1, 1, 1, 1, 1, 1, 1, 1, 1, 1, 1, 1, 1, 1, 1, 1, 1, 1, 1, 1, 1, 1, 1, 1, 1, 1, 1, 1, 1, 1, 1, 1, 1, 1, 1, 1, 1, 1, 1, 1, 1, 1, 1, 1, 1, 1, 1, 1, 1, 1, 1, 1, 1, 1, 1, 1, 1, 1, 1, 1, 1, 1, 1, 1, 1, 1, 1, 1, 1, 1, 1, 1, 1, 1, 1, 1, 1, 1, 1, 1, 1, 1, 1, 1, 1, 1, 1, 1, 1, 1, 1, 1, 1, 1, 1, 1, 1, 1, 1, 1, 1, 1, 1, 1, 1, 1, 1, 1, 1, 1, 1, 1, 1, 1, 1, 1, 1, 1, 1, 1, 1, 1, 1, 1, 1], [1, 1, 1, 1, 1, 1, 1, 1, 1, 1, 1, 1, 1, 1, 1, 1, 1, 1, 1, 1, 1, 1, 1, 1, 1, 1, 1, 1, 1, 1, 1, 1, 1, 1, 1, 1, 1, 1, 1, 1, 1, 1, 1, 1, 1, 1, 1, 1, 1, 1, 1, 1, 1, 1, 1, 1, 1, 1, 1, 1, 1, 1, 1, 1, 1, 1, 1, 1, 1, 1, 1, 1, 1, 1, 1, 1, 1, 1, 1, 1, 1, 1, 1, 1, 1, 1, 1, 1, 1, 1, 1, 1, 1, 1, 1, 1, 1, 1, 1, 1, 1, 1, 1, 1, 1, 1, 1, 1, 1, 1, 1, 1, 1, 1, 1, 1, 1, 1, 1, 1, 1, 1, 1, 1, 1, 1, 1, 1, 1, 1, 1, 1, 1, 1, 1, 1, 1, 1, 1, 1, 1, 1, 1, 1, 1, 1, 1, 1, 1, 1, 1, 1, 1, 1, 1, 1, 1, 1, 1, 1, 1, 1, 1, 1, 1, 1, 1, 1, 1, 1, 1, 1, 1, 1, 1, 1, 1, 1, 1, 1, 1, 1, 1, 1, 1, 1, 1, 1, 1, 1, 1, 1, 1, 1, 1, 1, 1, 1, 1, 1, 1, 1, 1, 1, 1, 1, 1, 1, 1, 1, 1, 1, 1, 1, 1, 1, 1, 1, 1, 1, 1, 1, 1, 1, 1, 1, 1, 1, 1, 1, 1, 1, 1, 1, 1, 1, 1, 1, 1, 1, 1, 1, 1, 1, 1, 1, 1, 1, 1, 1, 1, 1, 1, 1, 1, 1, 1, 1, 1, 1, 1, 1, 1, 1, 1, 1, 1, 1, 1, 1, 1, 1, 1, 1, 1, 1, 1, 1, 1, 1, 1, 1, 1, 1, 1, 1, 1, 1, 1, 1, 1, 1, 1, 1, 1, 1, 1, 1, 1, 1, 1, 1, 1, 1]]}"
            ]
          },
          "metadata": {},
          "execution_count": 9
        }
      ]
    },
    {
      "cell_type": "code",
      "source": [
        "if tokenizer.is_fast: # i = 0,1\n",
        "  result[\"word_ids\"] = [result.word_ids(i) for i in range(len(result[\"input_ids\"]))]\n",
        "print(result['word_ids'])"
      ],
      "metadata": {
        "colab": {
          "base_uri": "https://localhost:8080/"
        },
        "id": "jRa3y8Nhy_I9",
        "outputId": "25077c1d-7d48-492e-bdeb-48b4f7153a7c"
      },
      "execution_count": 10,
      "outputs": [
        {
          "output_type": "stream",
          "name": "stdout",
          "text": [
            "[[None, 0, 1, 2, 3, 4, 5, 6, 7, 8, 9, 10, 11, 12, 13, 14, 15, 16, 17, 18, 19, 20, 21, 22, 23, 24, 25, 26, 27, 28, 29, 30, 31, 32, 33, 34, 35, 36, 37, 38, 39, 40, 41, 42, 43, 44, 45, 46, 47, 48, 49, 50, 51, 52, 53, 54, 55, 56, 57, 58, 59, 60, 61, 62, 63, 64, 65, 66, 67, 68, 69, 70, 71, 72, 73, 74, 75, 76, 77, 78, 79, 80, 81, 82, 83, 84, 85, 86, 87, 88, 89, 90, 91, 92, 93, 94, 95, 96, 97, 98, 99, 100, 101, 102, 103, 104, 105, 106, 107, 107, 108, 109, 110, 111, 112, 113, 114, 115, 116, 117, 118, 118, 119, 120, 121, 122, 123, 124, 125, 126, 127, 128, 129, 130, 131, 132, 133, 134, 135, 136, 137, 138, 139, 140, 141, 142, 143, 143, 143, 144, 145, 146, 147, 148, 149, 150, 151, 152, 153, 154, 155, 156, 157, 158, 159, 160, 161, 162, 163, 164, 165, 166, 167, 168, 169, 170, 171, 172, 173, 174, 175, 176, 177, 178, 179, 180, 181, 182, 183, 184, 185, 186, 187, 188, 189, 190, 191, 192, 193, 194, 195, 196, 197, 198, 199, 199, 200, 201, 202, 203, 204, 205, 206, 207, 208, 209, 210, 211, 212, 213, 214, 215, 216, 216, 217, 218, 218, 219, 220, 221, 222, 222, 223, 224, 225, 226, 227, 228, 229, 230, 231, 232, 232, 233, 234, 235, 236, 237, 238, 239, 240, 241, 242, 242, 243, 244, 245, 246, 247, 248, 249, 250, 251, 252, 253, 254, 255, 256, 257, 258, 259, 260, 261, 262, 263, 264, 265, 266, 267, 268, 269, 270, 271, 272, 272, 272, 273, 274, 275, 276, 277, 278, 279, 280, 281, 282, 283, 284, 285, 286, 287, 288, 289, 290, 291, 292, 293, 294, 295, 296, 297, 298, 299, 300, 301, 302, 303, 304, 305, 306, 307, 308, 309, 310, 311, 312, 313, 314, 315, 316, 317, 318, 319, 320, 321, 322, 323, 324, 325, 326, 327, 328, 329, 330, 331, 332, 333, 334, 335, 336, 337, 338, 339, 340, 341, 342, 343, 344, 345, 346, 347, 348, None], [None, 0, 1, 2, 3, 4, 5, 6, 7, 8, 9, 9, 10, 11, 11, 11, 12, 13, 14, 15, 16, 17, 18, 19, 20, 21, 22, 23, 24, 25, 26, 27, 28, 29, 30, 31, 32, 33, 34, 35, 36, 37, 38, 39, 40, 41, 42, 43, 44, 45, 46, 46, 47, 48, 49, 50, 51, 52, 53, 54, 55, 56, 57, 58, 59, 60, 61, 62, 63, 64, 65, 66, 67, 68, 69, 70, 70, 71, 72, 73, 74, 75, 76, 77, 78, 79, 80, 81, 82, 83, 84, 85, 86, 87, 88, 89, 90, 91, 91, 91, 92, 93, 93, 94, 94, 95, 96, 97, 98, 99, 100, 101, 102, 103, 104, 105, 106, 107, 108, 109, 110, 110, 111, 112, 113, 114, 114, 114, 114, 115, 116, 117, 118, 119, 120, 121, 122, 122, 123, 124, 125, 126, 127, 128, 128, 128, 129, 130, 131, 132, 133, 134, 135, 136, 137, 138, 139, 140, 141, 142, 143, 144, 145, 146, 147, 148, 149, 150, 151, 152, 153, 154, 155, 156, 157, 158, 159, 160, 161, 162, 162, 162, 163, 164, 165, 166, 167, 168, 169, 170, 171, 172, 173, 174, 175, 176, 177, 178, 178, 179, 180, 181, 182, 182, 182, 183, 184, 185, 186, 187, 188, 188, 188, 188, 189, 190, 191, 192, 193, 194, 195, 196, 197, 198, 199, 200, 200, 200, 201, 202, 203, 204, 205, 206, 207, 208, 209, 210, 211, 212, 213, 214, 215, 216, 217, 218, 219, 220, 221, 222, 223, 224, 225, 226, 227, 228, 228, 228, 229, 230, 231, 232, 233, 234, 235, 236, 237, 238, 239, 240, 240, 241, 242, 243, 244, 245, 246, 247, 248, 249, 250, 251, 252, 253, 254, 254, 255, 255, 256, 257, 258, 259, 260, 261, 262, 263, 264, 265, 266, 267, 268, 269, 270, None]]\n"
          ]
        }
      ]
    },
    {
      "cell_type": "code",
      "source": [
        "def tokenize_function(examples):\n",
        "    result = tokenizer(examples[\"text\"])\n",
        "    if tokenizer.is_fast:\n",
        "        result[\"word_ids\"] = [result.word_ids(i) for i in range(len(result[\"input_ids\"]))]\n",
        "    return result\n",
        "\n",
        "\n",
        "# Use batched=True to activate fast multithreading!\n",
        "tokenized_datasets = imdb_dataset.map(\n",
        "    tokenize_function, batched=True, remove_columns=[\"text\", \"label\"]\n",
        ")\n",
        "tokenized_datasets"
      ],
      "metadata": {
        "colab": {
          "base_uri": "https://localhost:8080/",
          "height": 329,
          "referenced_widgets": [
            "46f57173d66741e5877dbab9ba2eb3e1",
            "82c86073d42c4de483992f6343cee1b7",
            "3e8645fa037647bcaf69308145beab09",
            "f5c9a8de2eb540de87de9c0668d71e74",
            "692777dbf07e484398bb5b69d17c7f3b",
            "892c40dcf73d4729a594416110b5eada",
            "14f111b7c72b4d8e952f79ab3e589624",
            "b3d7e5e75b4d41d18702bd2a3de57789",
            "a5514079502148acb7da2fcf285ea133",
            "6e252f597e1547aeb06837ecfbdb1441",
            "3cc32b5804bc4335afd86f42da9ac1da"
          ]
        },
        "id": "pI-ntCuUxZbx",
        "outputId": "e5e7a39f-459f-4df1-b705-1e8073390930"
      },
      "execution_count": 11,
      "outputs": [
        {
          "output_type": "display_data",
          "data": {
            "text/plain": [
              "Map:   0%|          | 0/50000 [00:00<?, ? examples/s]"
            ],
            "application/vnd.jupyter.widget-view+json": {
              "version_major": 2,
              "version_minor": 0,
              "model_id": "46f57173d66741e5877dbab9ba2eb3e1"
            }
          },
          "metadata": {}
        },
        {
          "output_type": "stream",
          "name": "stderr",
          "text": [
            "Token indices sequence length is longer than the specified maximum sequence length for this model (519 > 512). Running this sequence through the model will result in indexing errors\n"
          ]
        },
        {
          "output_type": "execute_result",
          "data": {
            "text/plain": [
              "DatasetDict({\n",
              "    train: Dataset({\n",
              "        features: ['input_ids', 'attention_mask', 'word_ids'],\n",
              "        num_rows: 25000\n",
              "    })\n",
              "    test: Dataset({\n",
              "        features: ['input_ids', 'attention_mask', 'word_ids'],\n",
              "        num_rows: 25000\n",
              "    })\n",
              "    unsupervised: Dataset({\n",
              "        features: ['input_ids', 'attention_mask', 'word_ids'],\n",
              "        num_rows: 50000\n",
              "    })\n",
              "})"
            ]
          },
          "metadata": {},
          "execution_count": 11
        }
      ]
    },
    {
      "cell_type": "code",
      "source": [
        "tokenizer.model_max_length #maximum length of sequence that the tokenizer can handle"
      ],
      "metadata": {
        "colab": {
          "base_uri": "https://localhost:8080/"
        },
        "id": "ayYQ6pht1ZQw",
        "outputId": "54cc1509-868d-455a-bd64-940a5213f86d"
      },
      "execution_count": 12,
      "outputs": [
        {
          "output_type": "execute_result",
          "data": {
            "text/plain": [
              "512"
            ]
          },
          "metadata": {},
          "execution_count": 12
        }
      ]
    },
    {
      "cell_type": "code",
      "source": [
        "chunk_size = 128"
      ],
      "metadata": {
        "id": "fTiBrMI81ZoI"
      },
      "execution_count": 13,
      "outputs": []
    },
    {
      "cell_type": "code",
      "source": [
        "tokenized_samples = tokenized_datasets[\"train\"][:3]\n",
        "\n",
        "for idx, sample in enumerate(tokenized_samples[\"input_ids\"]):\n",
        "    print(f\"'>>> Review {idx} length: {len(sample)}'\")"
      ],
      "metadata": {
        "id": "2f1CAjrX19cG",
        "colab": {
          "base_uri": "https://localhost:8080/"
        },
        "outputId": "9d071a9d-6210-4d1b-9d3b-df65090cc014"
      },
      "execution_count": 14,
      "outputs": [
        {
          "output_type": "stream",
          "name": "stdout",
          "text": [
            "'>>> Review 0 length: 363'\n",
            "'>>> Review 1 length: 304'\n",
            "'>>> Review 2 length: 133'\n"
          ]
        }
      ]
    },
    {
      "cell_type": "code",
      "source": [
        "tokenized_samples.keys()"
      ],
      "metadata": {
        "colab": {
          "base_uri": "https://localhost:8080/"
        },
        "id": "9WobFJmxhlM4",
        "outputId": "24d8a38b-c933-414c-8ec0-273844addf1b"
      },
      "execution_count": 15,
      "outputs": [
        {
          "output_type": "execute_result",
          "data": {
            "text/plain": [
              "dict_keys(['input_ids', 'attention_mask', 'word_ids'])"
            ]
          },
          "metadata": {},
          "execution_count": 15
        }
      ]
    },
    {
      "cell_type": "code",
      "source": [
        "len(sum(tokenized_samples['input_ids'],[]))"
      ],
      "metadata": {
        "colab": {
          "base_uri": "https://localhost:8080/"
        },
        "id": "EKbXUgYbiyzA",
        "outputId": "e25c7d3e-6f9f-463b-dfda-a7a839059984"
      },
      "execution_count": 16,
      "outputs": [
        {
          "output_type": "execute_result",
          "data": {
            "text/plain": [
              "800"
            ]
          },
          "metadata": {},
          "execution_count": 16
        }
      ]
    },
    {
      "cell_type": "markdown",
      "source": [
        "800 = 363 + 304 + 133"
      ],
      "metadata": {
        "id": "JWu0jF11j1u_"
      }
    },
    {
      "cell_type": "code",
      "source": [
        "concatenated_examples = {\n",
        "    k: sum(tokenized_samples[k], []) for k in tokenized_samples.keys()\n",
        "}\n",
        "total_length = len(concatenated_examples[\"input_ids\"])\n",
        "print(f\"'>>> Concatenated reviews length: {total_length}'\")"
      ],
      "metadata": {
        "colab": {
          "base_uri": "https://localhost:8080/"
        },
        "id": "qj_E5sWUkGyP",
        "outputId": "0b3ba59d-d878-4232-9fa5-3e4b25093205"
      },
      "execution_count": 17,
      "outputs": [
        {
          "output_type": "stream",
          "name": "stdout",
          "text": [
            "'>>> Concatenated reviews length: 800'\n"
          ]
        }
      ]
    },
    {
      "cell_type": "code",
      "source": [
        "count = 0;\n",
        "for i in concatenated_examples['input_ids']:\n",
        "  if i==101:\n",
        "    count = count+1;\n",
        "print(count)\n",
        "# [0:3] -> 101...102.101....102.101....102\n",
        "# {'input_ids':[101...102.101....102.101....102],.......}"
      ],
      "metadata": {
        "colab": {
          "base_uri": "https://localhost:8080/"
        },
        "id": "swP-TUdVkHGs",
        "outputId": "6b67a1dd-e7a5-4bb2-cfcc-4722fb46c9b0"
      },
      "execution_count": 18,
      "outputs": [
        {
          "output_type": "stream",
          "name": "stdout",
          "text": [
            "3\n"
          ]
        }
      ]
    },
    {
      "cell_type": "code",
      "source": [
        "for k,t in concatenated_examples.items():\n",
        "  print(k)"
      ],
      "metadata": {
        "colab": {
          "base_uri": "https://localhost:8080/"
        },
        "id": "f90wG5pkK5fX",
        "outputId": "c6a367ed-8073-489e-8257-07471d278ddf"
      },
      "execution_count": 19,
      "outputs": [
        {
          "output_type": "stream",
          "name": "stdout",
          "text": [
            "input_ids\n",
            "attention_mask\n",
            "word_ids\n"
          ]
        }
      ]
    },
    {
      "cell_type": "code",
      "source": [
        "for k,t in concatenated_examples.items():\n",
        "  print(t)"
      ],
      "metadata": {
        "colab": {
          "base_uri": "https://localhost:8080/"
        },
        "id": "wtQBKKFyL2Zp",
        "outputId": "cb0b7c7a-600f-4f6d-ea31-e1722b8a4e69"
      },
      "execution_count": 20,
      "outputs": [
        {
          "output_type": "stream",
          "name": "stdout",
          "text": [
            "[101, 1045, 12524, 1045, 2572, 8025, 1011, 3756, 2013, 2026, 2678, 3573, 2138, 1997, 2035, 1996, 6704, 2008, 5129, 2009, 2043, 2009, 2001, 2034, 2207, 1999, 3476, 1012, 1045, 2036, 2657, 2008, 2012, 2034, 2009, 2001, 8243, 2011, 1057, 1012, 1055, 1012, 8205, 2065, 2009, 2412, 2699, 2000, 4607, 2023, 2406, 1010, 3568, 2108, 1037, 5470, 1997, 3152, 2641, 1000, 6801, 1000, 1045, 2428, 2018, 2000, 2156, 2023, 2005, 2870, 1012, 1026, 7987, 1013, 1028, 1026, 7987, 1013, 1028, 1996, 5436, 2003, 8857, 2105, 1037, 2402, 4467, 3689, 3076, 2315, 14229, 2040, 4122, 2000, 4553, 2673, 2016, 2064, 2055, 2166, 1012, 1999, 3327, 2016, 4122, 2000, 3579, 2014, 3086, 2015, 2000, 2437, 2070, 4066, 1997, 4516, 2006, 2054, 1996, 2779, 25430, 14728, 2245, 2055, 3056, 2576, 3314, 2107, 2004, 1996, 5148, 2162, 1998, 2679, 3314, 1999, 1996, 2142, 2163, 1012, 1999, 2090, 4851, 8801, 1998, 6623, 7939, 4697, 3619, 1997, 8947, 2055, 2037, 10740, 2006, 4331, 1010, 2016, 2038, 3348, 2007, 2014, 3689, 3836, 1010, 19846, 1010, 1998, 2496, 2273, 1012, 1026, 7987, 1013, 1028, 1026, 7987, 1013, 1028, 2054, 8563, 2033, 2055, 1045, 2572, 8025, 1011, 3756, 2003, 2008, 2871, 2086, 3283, 1010, 2023, 2001, 2641, 26932, 1012, 2428, 1010, 1996, 3348, 1998, 16371, 25469, 5019, 2024, 2261, 1998, 2521, 2090, 1010, 2130, 2059, 2009, 1005, 1055, 2025, 2915, 2066, 2070, 10036, 2135, 2081, 22555, 2080, 1012, 2096, 2026, 2406, 3549, 2568, 2424, 2009, 16880, 1010, 1999, 4507, 3348, 1998, 16371, 25469, 2024, 1037, 2350, 18785, 1999, 4467, 5988, 1012, 2130, 13749, 7849, 24544, 1010, 15835, 2037, 3437, 2000, 2204, 2214, 2879, 2198, 4811, 1010, 2018, 3348, 5019, 1999, 2010, 3152, 1012, 1026, 7987, 1013, 1028, 1026, 7987, 1013, 1028, 1045, 2079, 4012, 3549, 2094, 1996, 16587, 2005, 1996, 2755, 2008, 2151, 3348, 3491, 1999, 1996, 2143, 2003, 3491, 2005, 6018, 5682, 2738, 2084, 2074, 2000, 5213, 2111, 1998, 2191, 2769, 2000, 2022, 3491, 1999, 26932, 12370, 1999, 2637, 1012, 1045, 2572, 8025, 1011, 3756, 2003, 1037, 2204, 2143, 2005, 3087, 5782, 2000, 2817, 1996, 6240, 1998, 14629, 1006, 2053, 26136, 3832, 1007, 1997, 4467, 5988, 1012, 2021, 2428, 1010, 2023, 2143, 2987, 1005, 1056, 2031, 2172, 1997, 1037, 5436, 1012, 102, 101, 1000, 1045, 2572, 8025, 1024, 3756, 1000, 2003, 1037, 15544, 19307, 1998, 3653, 6528, 20771, 19986, 8632, 1012, 2009, 2987, 1005, 1056, 3043, 2054, 2028, 1005, 1055, 2576, 5328, 2024, 2138, 2023, 2143, 2064, 6684, 2022, 2579, 5667, 2006, 2151, 2504, 1012, 2004, 2005, 1996, 4366, 2008, 19124, 3287, 16371, 25469, 2003, 2019, 6882, 13316, 1011, 2459, 1010, 2008, 3475, 1005, 1056, 2995, 1012, 1045, 1005, 2310, 2464, 1054, 1011, 6758, 3152, 2007, 3287, 16371, 25469, 1012, 4379, 1010, 2027, 2069, 3749, 2070, 25085, 5328, 1010, 2021, 2073, 2024, 1996, 1054, 1011, 6758, 3152, 2007, 21226, 24728, 22144, 2015, 1998, 20916, 4691, 6845, 2401, 1029, 7880, 1010, 2138, 2027, 2123, 1005, 1056, 4839, 1012, 1996, 2168, 3632, 2005, 2216, 10231, 7685, 5830, 3065, 1024, 8040, 7317, 5063, 2015, 11820, 1999, 1996, 9478, 2021, 2025, 1037, 17962, 21239, 1999, 4356, 1012, 1998, 2216, 3653, 6528, 20771, 10271, 5691, 2066, 1996, 2829, 16291, 1010, 1999, 2029, 2057, 1005, 2128, 5845, 2000, 1996, 2609, 1997, 6320, 25624, 1005, 1055, 17061, 3779, 1010, 2021, 2025, 1037, 7637, 1997, 5061, 5710, 2006, 9318, 7367, 5737, 19393, 1012, 2077, 6933, 1006, 2030, 20242, 1007, 1000, 3313, 1011, 3115, 1000, 1999, 5609, 1997, 16371, 25469, 1010, 1996, 10597, 27885, 5809, 2063, 2323, 2202, 2046, 4070, 2028, 14477, 6767, 8524, 6321, 5793, 28141, 4489, 2090, 2273, 1998, 2308, 1024, 2045, 2024, 2053, 8991, 18400, 2015, 2006, 4653, 2043, 19910, 3544, 15287, 1010, 1998, 1996, 2168, 3685, 2022, 2056, 2005, 1037, 2158, 1012, 1999, 2755, 1010, 2017, 3227, 2180, 1005, 1056, 2156, 2931, 8991, 18400, 2015, 1999, 2019, 2137, 2143, 1999, 2505, 2460, 1997, 22555, 2030, 13216, 14253, 2050, 1012, 2023, 6884, 3313, 1011, 3115, 2003, 2625, 1037, 3313, 3115, 2084, 2019, 4914, 2135, 2139, 24128, 3754, 2000, 2272, 2000, 3408, 20547, 2007, 1996, 19008, 1997, 2308, 1005, 1055, 4230, 1012, 102, 101, 2065, 2069, 2000, 4468, 2437, 2023, 2828, 1997, 2143, 1999, 1996, 2925, 1012, 2023, 2143, 2003, 5875, 2004, 2019, 7551, 2021, 4136, 2053, 2522, 11461, 2466, 1012, 1026, 7987, 1013, 1028, 1026, 7987, 1013, 1028, 2028, 2453, 2514, 6819, 5339, 8918, 2005, 3564, 27046, 2009, 2138, 2009, 12817, 2006, 2061, 2116, 2590, 3314, 2021, 2009, 2515, 2061, 2302, 2151, 5860, 11795, 3085, 15793, 1012, 1996, 13972, 3310, 2185, 2007, 2053, 2047, 15251, 1006, 4983, 2028, 3310, 2039, 2007, 2028, 2096, 2028, 1005, 1055, 2568, 17677, 2015, 1010, 2004, 2009, 2097, 26597, 2079, 2076, 2023, 23100, 2143, 1007, 1012, 1026, 7987, 1013, 1028, 1026, 7987, 1013, 1028, 2028, 2453, 2488, 5247, 2028, 1005, 1055, 2051, 4582, 2041, 1037, 3332, 2012, 1037, 3392, 3652, 1012, 1026, 7987, 1013, 1028, 1026, 7987, 1013, 1028, 102]\n",
            "[1, 1, 1, 1, 1, 1, 1, 1, 1, 1, 1, 1, 1, 1, 1, 1, 1, 1, 1, 1, 1, 1, 1, 1, 1, 1, 1, 1, 1, 1, 1, 1, 1, 1, 1, 1, 1, 1, 1, 1, 1, 1, 1, 1, 1, 1, 1, 1, 1, 1, 1, 1, 1, 1, 1, 1, 1, 1, 1, 1, 1, 1, 1, 1, 1, 1, 1, 1, 1, 1, 1, 1, 1, 1, 1, 1, 1, 1, 1, 1, 1, 1, 1, 1, 1, 1, 1, 1, 1, 1, 1, 1, 1, 1, 1, 1, 1, 1, 1, 1, 1, 1, 1, 1, 1, 1, 1, 1, 1, 1, 1, 1, 1, 1, 1, 1, 1, 1, 1, 1, 1, 1, 1, 1, 1, 1, 1, 1, 1, 1, 1, 1, 1, 1, 1, 1, 1, 1, 1, 1, 1, 1, 1, 1, 1, 1, 1, 1, 1, 1, 1, 1, 1, 1, 1, 1, 1, 1, 1, 1, 1, 1, 1, 1, 1, 1, 1, 1, 1, 1, 1, 1, 1, 1, 1, 1, 1, 1, 1, 1, 1, 1, 1, 1, 1, 1, 1, 1, 1, 1, 1, 1, 1, 1, 1, 1, 1, 1, 1, 1, 1, 1, 1, 1, 1, 1, 1, 1, 1, 1, 1, 1, 1, 1, 1, 1, 1, 1, 1, 1, 1, 1, 1, 1, 1, 1, 1, 1, 1, 1, 1, 1, 1, 1, 1, 1, 1, 1, 1, 1, 1, 1, 1, 1, 1, 1, 1, 1, 1, 1, 1, 1, 1, 1, 1, 1, 1, 1, 1, 1, 1, 1, 1, 1, 1, 1, 1, 1, 1, 1, 1, 1, 1, 1, 1, 1, 1, 1, 1, 1, 1, 1, 1, 1, 1, 1, 1, 1, 1, 1, 1, 1, 1, 1, 1, 1, 1, 1, 1, 1, 1, 1, 1, 1, 1, 1, 1, 1, 1, 1, 1, 1, 1, 1, 1, 1, 1, 1, 1, 1, 1, 1, 1, 1, 1, 1, 1, 1, 1, 1, 1, 1, 1, 1, 1, 1, 1, 1, 1, 1, 1, 1, 1, 1, 1, 1, 1, 1, 1, 1, 1, 1, 1, 1, 1, 1, 1, 1, 1, 1, 1, 1, 1, 1, 1, 1, 1, 1, 1, 1, 1, 1, 1, 1, 1, 1, 1, 1, 1, 1, 1, 1, 1, 1, 1, 1, 1, 1, 1, 1, 1, 1, 1, 1, 1, 1, 1, 1, 1, 1, 1, 1, 1, 1, 1, 1, 1, 1, 1, 1, 1, 1, 1, 1, 1, 1, 1, 1, 1, 1, 1, 1, 1, 1, 1, 1, 1, 1, 1, 1, 1, 1, 1, 1, 1, 1, 1, 1, 1, 1, 1, 1, 1, 1, 1, 1, 1, 1, 1, 1, 1, 1, 1, 1, 1, 1, 1, 1, 1, 1, 1, 1, 1, 1, 1, 1, 1, 1, 1, 1, 1, 1, 1, 1, 1, 1, 1, 1, 1, 1, 1, 1, 1, 1, 1, 1, 1, 1, 1, 1, 1, 1, 1, 1, 1, 1, 1, 1, 1, 1, 1, 1, 1, 1, 1, 1, 1, 1, 1, 1, 1, 1, 1, 1, 1, 1, 1, 1, 1, 1, 1, 1, 1, 1, 1, 1, 1, 1, 1, 1, 1, 1, 1, 1, 1, 1, 1, 1, 1, 1, 1, 1, 1, 1, 1, 1, 1, 1, 1, 1, 1, 1, 1, 1, 1, 1, 1, 1, 1, 1, 1, 1, 1, 1, 1, 1, 1, 1, 1, 1, 1, 1, 1, 1, 1, 1, 1, 1, 1, 1, 1, 1, 1, 1, 1, 1, 1, 1, 1, 1, 1, 1, 1, 1, 1, 1, 1, 1, 1, 1, 1, 1, 1, 1, 1, 1, 1, 1, 1, 1, 1, 1, 1, 1, 1, 1, 1, 1, 1, 1, 1, 1, 1, 1, 1, 1, 1, 1, 1, 1, 1, 1, 1, 1, 1, 1, 1, 1, 1, 1, 1, 1, 1, 1, 1, 1, 1, 1, 1, 1, 1, 1, 1, 1, 1, 1, 1, 1, 1, 1, 1, 1, 1, 1, 1, 1, 1, 1, 1, 1, 1, 1, 1, 1, 1, 1, 1, 1, 1, 1, 1, 1, 1, 1, 1, 1, 1, 1, 1, 1, 1, 1, 1, 1, 1, 1, 1, 1, 1, 1, 1, 1, 1, 1, 1, 1, 1, 1, 1, 1, 1, 1, 1, 1, 1, 1, 1, 1, 1, 1, 1, 1, 1, 1, 1, 1, 1, 1, 1, 1, 1, 1, 1, 1, 1, 1, 1, 1, 1, 1, 1, 1, 1, 1, 1, 1, 1, 1, 1, 1, 1, 1, 1, 1, 1, 1, 1, 1, 1, 1, 1, 1, 1, 1, 1, 1, 1, 1, 1, 1, 1, 1, 1, 1, 1, 1, 1, 1, 1, 1, 1, 1, 1, 1, 1, 1, 1, 1, 1, 1, 1, 1, 1, 1, 1, 1, 1, 1, 1, 1]\n",
            "[None, 0, 1, 2, 3, 4, 5, 6, 7, 8, 9, 10, 11, 12, 13, 14, 15, 16, 17, 18, 19, 20, 21, 22, 23, 24, 25, 26, 27, 28, 29, 30, 31, 32, 33, 34, 35, 36, 37, 38, 39, 40, 41, 42, 43, 44, 45, 46, 47, 48, 49, 50, 51, 52, 53, 54, 55, 56, 57, 58, 59, 60, 61, 62, 63, 64, 65, 66, 67, 68, 69, 70, 71, 72, 73, 74, 75, 76, 77, 78, 79, 80, 81, 82, 83, 84, 85, 86, 87, 88, 89, 90, 91, 92, 93, 94, 95, 96, 97, 98, 99, 100, 101, 102, 103, 104, 105, 106, 107, 107, 108, 109, 110, 111, 112, 113, 114, 115, 116, 117, 118, 118, 119, 120, 121, 122, 123, 124, 125, 126, 127, 128, 129, 130, 131, 132, 133, 134, 135, 136, 137, 138, 139, 140, 141, 142, 143, 143, 143, 144, 145, 146, 147, 148, 149, 150, 151, 152, 153, 154, 155, 156, 157, 158, 159, 160, 161, 162, 163, 164, 165, 166, 167, 168, 169, 170, 171, 172, 173, 174, 175, 176, 177, 178, 179, 180, 181, 182, 183, 184, 185, 186, 187, 188, 189, 190, 191, 192, 193, 194, 195, 196, 197, 198, 199, 199, 200, 201, 202, 203, 204, 205, 206, 207, 208, 209, 210, 211, 212, 213, 214, 215, 216, 216, 217, 218, 218, 219, 220, 221, 222, 222, 223, 224, 225, 226, 227, 228, 229, 230, 231, 232, 232, 233, 234, 235, 236, 237, 238, 239, 240, 241, 242, 242, 243, 244, 245, 246, 247, 248, 249, 250, 251, 252, 253, 254, 255, 256, 257, 258, 259, 260, 261, 262, 263, 264, 265, 266, 267, 268, 269, 270, 271, 272, 272, 272, 273, 274, 275, 276, 277, 278, 279, 280, 281, 282, 283, 284, 285, 286, 287, 288, 289, 290, 291, 292, 293, 294, 295, 296, 297, 298, 299, 300, 301, 302, 303, 304, 305, 306, 307, 308, 309, 310, 311, 312, 313, 314, 315, 316, 317, 318, 319, 320, 321, 322, 323, 324, 325, 326, 327, 328, 329, 330, 331, 332, 333, 334, 335, 336, 337, 338, 339, 340, 341, 342, 343, 344, 345, 346, 347, 348, None, None, 0, 1, 2, 3, 4, 5, 6, 7, 8, 9, 9, 10, 11, 11, 11, 12, 13, 14, 15, 16, 17, 18, 19, 20, 21, 22, 23, 24, 25, 26, 27, 28, 29, 30, 31, 32, 33, 34, 35, 36, 37, 38, 39, 40, 41, 42, 43, 44, 45, 46, 46, 47, 48, 49, 50, 51, 52, 53, 54, 55, 56, 57, 58, 59, 60, 61, 62, 63, 64, 65, 66, 67, 68, 69, 70, 70, 71, 72, 73, 74, 75, 76, 77, 78, 79, 80, 81, 82, 83, 84, 85, 86, 87, 88, 89, 90, 91, 91, 91, 92, 93, 93, 94, 94, 95, 96, 97, 98, 99, 100, 101, 102, 103, 104, 105, 106, 107, 108, 109, 110, 110, 111, 112, 113, 114, 114, 114, 114, 115, 116, 117, 118, 119, 120, 121, 122, 122, 123, 124, 125, 126, 127, 128, 128, 128, 129, 130, 131, 132, 133, 134, 135, 136, 137, 138, 139, 140, 141, 142, 143, 144, 145, 146, 147, 148, 149, 150, 151, 152, 153, 154, 155, 156, 157, 158, 159, 160, 161, 162, 162, 162, 163, 164, 165, 166, 167, 168, 169, 170, 171, 172, 173, 174, 175, 176, 177, 178, 178, 179, 180, 181, 182, 182, 182, 183, 184, 185, 186, 187, 188, 188, 188, 188, 189, 190, 191, 192, 193, 194, 195, 196, 197, 198, 199, 200, 200, 200, 201, 202, 203, 204, 205, 206, 207, 208, 209, 210, 211, 212, 213, 214, 215, 216, 217, 218, 219, 220, 221, 222, 223, 224, 225, 226, 227, 228, 228, 228, 229, 230, 231, 232, 233, 234, 235, 236, 237, 238, 239, 240, 240, 241, 242, 243, 244, 245, 246, 247, 248, 249, 250, 251, 252, 253, 254, 254, 255, 255, 256, 257, 258, 259, 260, 261, 262, 263, 264, 265, 266, 267, 268, 269, 270, None, None, 0, 1, 2, 3, 4, 5, 6, 7, 8, 9, 10, 11, 12, 13, 14, 15, 16, 17, 18, 19, 20, 21, 22, 23, 23, 24, 25, 26, 27, 28, 29, 30, 31, 32, 33, 34, 35, 36, 37, 37, 37, 38, 39, 40, 41, 42, 43, 44, 45, 46, 47, 48, 49, 50, 51, 52, 53, 54, 55, 56, 56, 56, 57, 58, 59, 60, 61, 62, 63, 64, 65, 66, 67, 68, 69, 70, 71, 72, 73, 74, 75, 76, 77, 78, 79, 79, 80, 81, 82, 83, 84, 85, 86, 87, 88, 89, 90, 91, 92, 93, 94, 95, 96, 97, 98, 99, 100, 101, 102, 103, 104, 105, 106, 107, 108, 109, 110, 111, 112, 113, 114, 115, 116, 117, 118, 119, 120, 121, 122, 123, 124, None]\n"
          ]
        }
      ]
    },
    {
      "cell_type": "code",
      "source": [
        "chunks = {\n",
        "    k: [t[i : i + chunk_size] for i in range(0, total_length, chunk_size)]\n",
        "    for k, t in concatenated_examples.items()\n",
        "}\n",
        "\n",
        "for chunk in chunks[\"input_ids\"]:\n",
        "    print(f\"'>>> Chunk length: {len(chunk)}'\")\n",
        "# {'input_ids': [[101,1045,...][...][....]],.......}"
      ],
      "metadata": {
        "colab": {
          "base_uri": "https://localhost:8080/"
        },
        "id": "y9xNMB9JlJYk",
        "outputId": "4e1244a2-a22f-4f53-c527-5f64d9fca424"
      },
      "execution_count": 21,
      "outputs": [
        {
          "output_type": "stream",
          "name": "stdout",
          "text": [
            "'>>> Chunk length: 128'\n",
            "'>>> Chunk length: 128'\n",
            "'>>> Chunk length: 128'\n",
            "'>>> Chunk length: 128'\n",
            "'>>> Chunk length: 128'\n",
            "'>>> Chunk length: 128'\n",
            "'>>> Chunk length: 32'\n"
          ]
        }
      ]
    },
    {
      "cell_type": "code",
      "source": [
        "def group_texts(examples):\n",
        "    # Concatenate all texts\n",
        "    concatenated_examples = {k: sum(examples[k], []) for k in examples.keys()}\n",
        "    # Compute length of concatenated texts\n",
        "    total_length = len(concatenated_examples[list(examples.keys())[0]])\n",
        "    # We drop the last chunk if it's smaller than chunk_size\n",
        "    total_length = (total_length // chunk_size) * chunk_size\n",
        "    # Split by chunks of max_len\n",
        "    result = {\n",
        "        k: [t[i : i + chunk_size] for i in range(0, total_length, chunk_size)]\n",
        "        for k, t in concatenated_examples.items()\n",
        "    }\n",
        "    # Create a new labels column\n",
        "    result[\"labels\"] = result[\"input_ids\"].copy()\n",
        "    return result"
      ],
      "metadata": {
        "id": "05F4kHbOlJnn"
      },
      "execution_count": 22,
      "outputs": []
    },
    {
      "cell_type": "code",
      "source": [
        "lm_datasets = tokenized_datasets.map(group_texts, batched=True)\n",
        "lm_datasets"
      ],
      "metadata": {
        "colab": {
          "base_uri": "https://localhost:8080/",
          "height": 292,
          "referenced_widgets": [
            "efb1209aa5af4e209fcbf1cd3897006c",
            "99f6e450b6d642b384049a0b00b66bc2",
            "c7d30098706b4c02859267637c403b7e",
            "2677d5ca016645b1aee1215f2119dafa",
            "49d1a8e997bb44dab44a23fcbe53f8ab",
            "58afb7d8fe8f4ed6abfa1f0c942f1457",
            "a7a9b7bf78e9415190f718c42ce69462",
            "6d30a8b6762f4d6abe91246fdbe976c0",
            "fe52a2ae21934422b59c08790ad545a6",
            "396dc42ee2104035ad06076f47128ede",
            "918685989fd44aa28da37bd07a6c2d9b"
          ]
        },
        "id": "TAskasTENlNH",
        "outputId": "06b5c489-886e-45e6-9fc2-ee438f7e65a3"
      },
      "execution_count": 23,
      "outputs": [
        {
          "output_type": "display_data",
          "data": {
            "text/plain": [
              "Map:   0%|          | 0/50000 [00:00<?, ? examples/s]"
            ],
            "application/vnd.jupyter.widget-view+json": {
              "version_major": 2,
              "version_minor": 0,
              "model_id": "efb1209aa5af4e209fcbf1cd3897006c"
            }
          },
          "metadata": {}
        },
        {
          "output_type": "execute_result",
          "data": {
            "text/plain": [
              "DatasetDict({\n",
              "    train: Dataset({\n",
              "        features: ['input_ids', 'attention_mask', 'word_ids', 'labels'],\n",
              "        num_rows: 61291\n",
              "    })\n",
              "    test: Dataset({\n",
              "        features: ['input_ids', 'attention_mask', 'word_ids', 'labels'],\n",
              "        num_rows: 59904\n",
              "    })\n",
              "    unsupervised: Dataset({\n",
              "        features: ['input_ids', 'attention_mask', 'word_ids', 'labels'],\n",
              "        num_rows: 122957\n",
              "    })\n",
              "})"
            ]
          },
          "metadata": {},
          "execution_count": 23
        }
      ]
    },
    {
      "cell_type": "code",
      "source": [
        "tokenizer.decode(lm_datasets[\"train\"][1][\"input_ids\"])"
      ],
      "metadata": {
        "colab": {
          "base_uri": "https://localhost:8080/",
          "height": 87
        },
        "id": "N-lx1RjURft0",
        "outputId": "8d28132d-87f3-4bfc-b081-ac4d5d58bae8"
      },
      "execution_count": 24,
      "outputs": [
        {
          "output_type": "execute_result",
          "data": {
            "text/plain": [
              "\"as the vietnam war and race issues in the united states. in between asking politicians and ordinary denizens of stockholm about their opinions on politics, she has sex with her drama teacher, classmates, and married men. < br / > < br / > what kills me about i am curious - yellow is that 40 years ago, this was considered pornographic. really, the sex and nudity scenes are few and far between, even then it's not shot like some cheaply made porno. while my countrymen mind find it shocking, in reality sex and nudity are a major staple in swedish cinema. even ingmar bergman,\""
            ],
            "application/vnd.google.colaboratory.intrinsic+json": {
              "type": "string"
            }
          },
          "metadata": {},
          "execution_count": 24
        }
      ]
    },
    {
      "cell_type": "markdown",
      "source": [
        "# Dynamic masking"
      ],
      "metadata": {
        "id": "HQINgptGlKfv"
      }
    },
    {
      "cell_type": "code",
      "source": [
        "from transformers import DataCollatorForLanguageModeling\n",
        "data_collator = DataCollatorForLanguageModeling(tokenizer,mlm_probability=0.15,return_tensors='tf')"
      ],
      "metadata": {
        "id": "HohDK-kdkvgI"
      },
      "execution_count": 25,
      "outputs": []
    },
    {
      "cell_type": "code",
      "source": [
        "samples = [lm_datasets[\"train\"][i] for i in range(2)]\n",
        "print(samples)\n",
        "for sample in samples:\n",
        "  _ = sample.pop(\"word_ids\")\n",
        "print(samples)\n",
        "print(data_collator(samples))\n",
        "print(tokenizer.decode((samples[0]['input_ids'])))\n",
        "print(tokenizer.decode((data_collator(samples)['input_ids'])[0]))\n",
        "for chunk in data_collator(samples)[\"input_ids\"]:\n",
        "    print(f\"\\n'>>> {tokenizer.decode(chunk)}'\")"
      ],
      "metadata": {
        "colab": {
          "base_uri": "https://localhost:8080/"
        },
        "id": "yUukFWH7W-e3",
        "outputId": "c682f9ea-e4e4-45bf-b5b0-bd714eed96c3"
      },
      "execution_count": 26,
      "outputs": [
        {
          "output_type": "stream",
          "name": "stderr",
          "text": [
            "You're using a DistilBertTokenizerFast tokenizer. Please note that with a fast tokenizer, using the `__call__` method is faster than using a method to encode the text followed by a call to the `pad` method to get a padded encoding.\n"
          ]
        },
        {
          "output_type": "stream",
          "name": "stdout",
          "text": [
            "[{'input_ids': [101, 1045, 12524, 1045, 2572, 8025, 1011, 3756, 2013, 2026, 2678, 3573, 2138, 1997, 2035, 1996, 6704, 2008, 5129, 2009, 2043, 2009, 2001, 2034, 2207, 1999, 3476, 1012, 1045, 2036, 2657, 2008, 2012, 2034, 2009, 2001, 8243, 2011, 1057, 1012, 1055, 1012, 8205, 2065, 2009, 2412, 2699, 2000, 4607, 2023, 2406, 1010, 3568, 2108, 1037, 5470, 1997, 3152, 2641, 1000, 6801, 1000, 1045, 2428, 2018, 2000, 2156, 2023, 2005, 2870, 1012, 1026, 7987, 1013, 1028, 1026, 7987, 1013, 1028, 1996, 5436, 2003, 8857, 2105, 1037, 2402, 4467, 3689, 3076, 2315, 14229, 2040, 4122, 2000, 4553, 2673, 2016, 2064, 2055, 2166, 1012, 1999, 3327, 2016, 4122, 2000, 3579, 2014, 3086, 2015, 2000, 2437, 2070, 4066, 1997, 4516, 2006, 2054, 1996, 2779, 25430, 14728, 2245, 2055, 3056, 2576, 3314, 2107], 'attention_mask': [1, 1, 1, 1, 1, 1, 1, 1, 1, 1, 1, 1, 1, 1, 1, 1, 1, 1, 1, 1, 1, 1, 1, 1, 1, 1, 1, 1, 1, 1, 1, 1, 1, 1, 1, 1, 1, 1, 1, 1, 1, 1, 1, 1, 1, 1, 1, 1, 1, 1, 1, 1, 1, 1, 1, 1, 1, 1, 1, 1, 1, 1, 1, 1, 1, 1, 1, 1, 1, 1, 1, 1, 1, 1, 1, 1, 1, 1, 1, 1, 1, 1, 1, 1, 1, 1, 1, 1, 1, 1, 1, 1, 1, 1, 1, 1, 1, 1, 1, 1, 1, 1, 1, 1, 1, 1, 1, 1, 1, 1, 1, 1, 1, 1, 1, 1, 1, 1, 1, 1, 1, 1, 1, 1, 1, 1, 1, 1], 'word_ids': [None, 0, 1, 2, 3, 4, 5, 6, 7, 8, 9, 10, 11, 12, 13, 14, 15, 16, 17, 18, 19, 20, 21, 22, 23, 24, 25, 26, 27, 28, 29, 30, 31, 32, 33, 34, 35, 36, 37, 38, 39, 40, 41, 42, 43, 44, 45, 46, 47, 48, 49, 50, 51, 52, 53, 54, 55, 56, 57, 58, 59, 60, 61, 62, 63, 64, 65, 66, 67, 68, 69, 70, 71, 72, 73, 74, 75, 76, 77, 78, 79, 80, 81, 82, 83, 84, 85, 86, 87, 88, 89, 90, 91, 92, 93, 94, 95, 96, 97, 98, 99, 100, 101, 102, 103, 104, 105, 106, 107, 107, 108, 109, 110, 111, 112, 113, 114, 115, 116, 117, 118, 118, 119, 120, 121, 122, 123, 124], 'labels': [101, 1045, 12524, 1045, 2572, 8025, 1011, 3756, 2013, 2026, 2678, 3573, 2138, 1997, 2035, 1996, 6704, 2008, 5129, 2009, 2043, 2009, 2001, 2034, 2207, 1999, 3476, 1012, 1045, 2036, 2657, 2008, 2012, 2034, 2009, 2001, 8243, 2011, 1057, 1012, 1055, 1012, 8205, 2065, 2009, 2412, 2699, 2000, 4607, 2023, 2406, 1010, 3568, 2108, 1037, 5470, 1997, 3152, 2641, 1000, 6801, 1000, 1045, 2428, 2018, 2000, 2156, 2023, 2005, 2870, 1012, 1026, 7987, 1013, 1028, 1026, 7987, 1013, 1028, 1996, 5436, 2003, 8857, 2105, 1037, 2402, 4467, 3689, 3076, 2315, 14229, 2040, 4122, 2000, 4553, 2673, 2016, 2064, 2055, 2166, 1012, 1999, 3327, 2016, 4122, 2000, 3579, 2014, 3086, 2015, 2000, 2437, 2070, 4066, 1997, 4516, 2006, 2054, 1996, 2779, 25430, 14728, 2245, 2055, 3056, 2576, 3314, 2107]}, {'input_ids': [2004, 1996, 5148, 2162, 1998, 2679, 3314, 1999, 1996, 2142, 2163, 1012, 1999, 2090, 4851, 8801, 1998, 6623, 7939, 4697, 3619, 1997, 8947, 2055, 2037, 10740, 2006, 4331, 1010, 2016, 2038, 3348, 2007, 2014, 3689, 3836, 1010, 19846, 1010, 1998, 2496, 2273, 1012, 1026, 7987, 1013, 1028, 1026, 7987, 1013, 1028, 2054, 8563, 2033, 2055, 1045, 2572, 8025, 1011, 3756, 2003, 2008, 2871, 2086, 3283, 1010, 2023, 2001, 2641, 26932, 1012, 2428, 1010, 1996, 3348, 1998, 16371, 25469, 5019, 2024, 2261, 1998, 2521, 2090, 1010, 2130, 2059, 2009, 1005, 1055, 2025, 2915, 2066, 2070, 10036, 2135, 2081, 22555, 2080, 1012, 2096, 2026, 2406, 3549, 2568, 2424, 2009, 16880, 1010, 1999, 4507, 3348, 1998, 16371, 25469, 2024, 1037, 2350, 18785, 1999, 4467, 5988, 1012, 2130, 13749, 7849, 24544, 1010], 'attention_mask': [1, 1, 1, 1, 1, 1, 1, 1, 1, 1, 1, 1, 1, 1, 1, 1, 1, 1, 1, 1, 1, 1, 1, 1, 1, 1, 1, 1, 1, 1, 1, 1, 1, 1, 1, 1, 1, 1, 1, 1, 1, 1, 1, 1, 1, 1, 1, 1, 1, 1, 1, 1, 1, 1, 1, 1, 1, 1, 1, 1, 1, 1, 1, 1, 1, 1, 1, 1, 1, 1, 1, 1, 1, 1, 1, 1, 1, 1, 1, 1, 1, 1, 1, 1, 1, 1, 1, 1, 1, 1, 1, 1, 1, 1, 1, 1, 1, 1, 1, 1, 1, 1, 1, 1, 1, 1, 1, 1, 1, 1, 1, 1, 1, 1, 1, 1, 1, 1, 1, 1, 1, 1, 1, 1, 1, 1, 1, 1], 'word_ids': [125, 126, 127, 128, 129, 130, 131, 132, 133, 134, 135, 136, 137, 138, 139, 140, 141, 142, 143, 143, 143, 144, 145, 146, 147, 148, 149, 150, 151, 152, 153, 154, 155, 156, 157, 158, 159, 160, 161, 162, 163, 164, 165, 166, 167, 168, 169, 170, 171, 172, 173, 174, 175, 176, 177, 178, 179, 180, 181, 182, 183, 184, 185, 186, 187, 188, 189, 190, 191, 192, 193, 194, 195, 196, 197, 198, 199, 199, 200, 201, 202, 203, 204, 205, 206, 207, 208, 209, 210, 211, 212, 213, 214, 215, 216, 216, 217, 218, 218, 219, 220, 221, 222, 222, 223, 224, 225, 226, 227, 228, 229, 230, 231, 232, 232, 233, 234, 235, 236, 237, 238, 239, 240, 241, 242, 242, 243, 244], 'labels': [2004, 1996, 5148, 2162, 1998, 2679, 3314, 1999, 1996, 2142, 2163, 1012, 1999, 2090, 4851, 8801, 1998, 6623, 7939, 4697, 3619, 1997, 8947, 2055, 2037, 10740, 2006, 4331, 1010, 2016, 2038, 3348, 2007, 2014, 3689, 3836, 1010, 19846, 1010, 1998, 2496, 2273, 1012, 1026, 7987, 1013, 1028, 1026, 7987, 1013, 1028, 2054, 8563, 2033, 2055, 1045, 2572, 8025, 1011, 3756, 2003, 2008, 2871, 2086, 3283, 1010, 2023, 2001, 2641, 26932, 1012, 2428, 1010, 1996, 3348, 1998, 16371, 25469, 5019, 2024, 2261, 1998, 2521, 2090, 1010, 2130, 2059, 2009, 1005, 1055, 2025, 2915, 2066, 2070, 10036, 2135, 2081, 22555, 2080, 1012, 2096, 2026, 2406, 3549, 2568, 2424, 2009, 16880, 1010, 1999, 4507, 3348, 1998, 16371, 25469, 2024, 1037, 2350, 18785, 1999, 4467, 5988, 1012, 2130, 13749, 7849, 24544, 1010]}]\n",
            "[{'input_ids': [101, 1045, 12524, 1045, 2572, 8025, 1011, 3756, 2013, 2026, 2678, 3573, 2138, 1997, 2035, 1996, 6704, 2008, 5129, 2009, 2043, 2009, 2001, 2034, 2207, 1999, 3476, 1012, 1045, 2036, 2657, 2008, 2012, 2034, 2009, 2001, 8243, 2011, 1057, 1012, 1055, 1012, 8205, 2065, 2009, 2412, 2699, 2000, 4607, 2023, 2406, 1010, 3568, 2108, 1037, 5470, 1997, 3152, 2641, 1000, 6801, 1000, 1045, 2428, 2018, 2000, 2156, 2023, 2005, 2870, 1012, 1026, 7987, 1013, 1028, 1026, 7987, 1013, 1028, 1996, 5436, 2003, 8857, 2105, 1037, 2402, 4467, 3689, 3076, 2315, 14229, 2040, 4122, 2000, 4553, 2673, 2016, 2064, 2055, 2166, 1012, 1999, 3327, 2016, 4122, 2000, 3579, 2014, 3086, 2015, 2000, 2437, 2070, 4066, 1997, 4516, 2006, 2054, 1996, 2779, 25430, 14728, 2245, 2055, 3056, 2576, 3314, 2107], 'attention_mask': [1, 1, 1, 1, 1, 1, 1, 1, 1, 1, 1, 1, 1, 1, 1, 1, 1, 1, 1, 1, 1, 1, 1, 1, 1, 1, 1, 1, 1, 1, 1, 1, 1, 1, 1, 1, 1, 1, 1, 1, 1, 1, 1, 1, 1, 1, 1, 1, 1, 1, 1, 1, 1, 1, 1, 1, 1, 1, 1, 1, 1, 1, 1, 1, 1, 1, 1, 1, 1, 1, 1, 1, 1, 1, 1, 1, 1, 1, 1, 1, 1, 1, 1, 1, 1, 1, 1, 1, 1, 1, 1, 1, 1, 1, 1, 1, 1, 1, 1, 1, 1, 1, 1, 1, 1, 1, 1, 1, 1, 1, 1, 1, 1, 1, 1, 1, 1, 1, 1, 1, 1, 1, 1, 1, 1, 1, 1, 1], 'labels': [101, 1045, 12524, 1045, 2572, 8025, 1011, 3756, 2013, 2026, 2678, 3573, 2138, 1997, 2035, 1996, 6704, 2008, 5129, 2009, 2043, 2009, 2001, 2034, 2207, 1999, 3476, 1012, 1045, 2036, 2657, 2008, 2012, 2034, 2009, 2001, 8243, 2011, 1057, 1012, 1055, 1012, 8205, 2065, 2009, 2412, 2699, 2000, 4607, 2023, 2406, 1010, 3568, 2108, 1037, 5470, 1997, 3152, 2641, 1000, 6801, 1000, 1045, 2428, 2018, 2000, 2156, 2023, 2005, 2870, 1012, 1026, 7987, 1013, 1028, 1026, 7987, 1013, 1028, 1996, 5436, 2003, 8857, 2105, 1037, 2402, 4467, 3689, 3076, 2315, 14229, 2040, 4122, 2000, 4553, 2673, 2016, 2064, 2055, 2166, 1012, 1999, 3327, 2016, 4122, 2000, 3579, 2014, 3086, 2015, 2000, 2437, 2070, 4066, 1997, 4516, 2006, 2054, 1996, 2779, 25430, 14728, 2245, 2055, 3056, 2576, 3314, 2107]}, {'input_ids': [2004, 1996, 5148, 2162, 1998, 2679, 3314, 1999, 1996, 2142, 2163, 1012, 1999, 2090, 4851, 8801, 1998, 6623, 7939, 4697, 3619, 1997, 8947, 2055, 2037, 10740, 2006, 4331, 1010, 2016, 2038, 3348, 2007, 2014, 3689, 3836, 1010, 19846, 1010, 1998, 2496, 2273, 1012, 1026, 7987, 1013, 1028, 1026, 7987, 1013, 1028, 2054, 8563, 2033, 2055, 1045, 2572, 8025, 1011, 3756, 2003, 2008, 2871, 2086, 3283, 1010, 2023, 2001, 2641, 26932, 1012, 2428, 1010, 1996, 3348, 1998, 16371, 25469, 5019, 2024, 2261, 1998, 2521, 2090, 1010, 2130, 2059, 2009, 1005, 1055, 2025, 2915, 2066, 2070, 10036, 2135, 2081, 22555, 2080, 1012, 2096, 2026, 2406, 3549, 2568, 2424, 2009, 16880, 1010, 1999, 4507, 3348, 1998, 16371, 25469, 2024, 1037, 2350, 18785, 1999, 4467, 5988, 1012, 2130, 13749, 7849, 24544, 1010], 'attention_mask': [1, 1, 1, 1, 1, 1, 1, 1, 1, 1, 1, 1, 1, 1, 1, 1, 1, 1, 1, 1, 1, 1, 1, 1, 1, 1, 1, 1, 1, 1, 1, 1, 1, 1, 1, 1, 1, 1, 1, 1, 1, 1, 1, 1, 1, 1, 1, 1, 1, 1, 1, 1, 1, 1, 1, 1, 1, 1, 1, 1, 1, 1, 1, 1, 1, 1, 1, 1, 1, 1, 1, 1, 1, 1, 1, 1, 1, 1, 1, 1, 1, 1, 1, 1, 1, 1, 1, 1, 1, 1, 1, 1, 1, 1, 1, 1, 1, 1, 1, 1, 1, 1, 1, 1, 1, 1, 1, 1, 1, 1, 1, 1, 1, 1, 1, 1, 1, 1, 1, 1, 1, 1, 1, 1, 1, 1, 1, 1], 'labels': [2004, 1996, 5148, 2162, 1998, 2679, 3314, 1999, 1996, 2142, 2163, 1012, 1999, 2090, 4851, 8801, 1998, 6623, 7939, 4697, 3619, 1997, 8947, 2055, 2037, 10740, 2006, 4331, 1010, 2016, 2038, 3348, 2007, 2014, 3689, 3836, 1010, 19846, 1010, 1998, 2496, 2273, 1012, 1026, 7987, 1013, 1028, 1026, 7987, 1013, 1028, 2054, 8563, 2033, 2055, 1045, 2572, 8025, 1011, 3756, 2003, 2008, 2871, 2086, 3283, 1010, 2023, 2001, 2641, 26932, 1012, 2428, 1010, 1996, 3348, 1998, 16371, 25469, 5019, 2024, 2261, 1998, 2521, 2090, 1010, 2130, 2059, 2009, 1005, 1055, 2025, 2915, 2066, 2070, 10036, 2135, 2081, 22555, 2080, 1012, 2096, 2026, 2406, 3549, 2568, 2424, 2009, 16880, 1010, 1999, 4507, 3348, 1998, 16371, 25469, 2024, 1037, 2350, 18785, 1999, 4467, 5988, 1012, 2130, 13749, 7849, 24544, 1010]}]\n",
            "{'input_ids': <tf.Tensor: shape=(2, 128), dtype=int64, numpy=\n",
            "array([[  101,  1045, 12524,  1045,  2572,  8025,  1011,  3756,  2013,\n",
            "         2026,  2678,  3573,  2138,  1997,  2035,  1996,  6704,  2008,\n",
            "         5129,   103,  2043,  2009,   103,  2034,  2207,  1999,  3476,\n",
            "         1012,  1045,  2036,  2657,  2008,   103,  2034,  2009,  2001,\n",
            "          103,  2011,  1057,  1012,  1055,  1012,  8205,  2065,  2009,\n",
            "         2412,  2699,   103,  4607,  2023,  2406,  1010,  3568,  2108,\n",
            "         1037,  5470,  1997,  3152,  2641,   103,  6801,  1000,  1045,\n",
            "         2428,  2018,  2000,  2156,  2023,  2005,   103,  1012,  1026,\n",
            "         7987,  1013,  1028,  1026,  7987,  1013,  1028,  1996,  5436,\n",
            "         2003,   103,  2105,  1037,  2402,  4467,  3689,  3076,  2315,\n",
            "        14229,  2040,  4122,  2000,  4553,  2673,  2016,  2064,   103,\n",
            "         2166,  1012,  1999,  3327,  2016,  4122,  2000,  3579,  2014,\n",
            "         3086,  2015,   103,  2437,  2070,  4066,  1997,  4516,  2006,\n",
            "         2054,  1996,  2779, 25430, 14728,  2245,  2055,  3056,  2576,\n",
            "         3314,  2107],\n",
            "       [ 2004,  1996,  5148,  2162,  1998,  2679,   103,  1999,  1996,\n",
            "         2142,  2163,  1012,  1999,  2090,  4851, 10872,  1998,  6623,\n",
            "         7939,  4697,  3619,   103,  8947,  2055,  2037, 10740,  2006,\n",
            "         4331,   103,  2016,  2038,  3348,  2007,  2014,  3689,  3836,\n",
            "         1010, 19846,   103,  1998,  2496,  2273,  1012,  1026,  7987,\n",
            "         1013,  1028,  1026,  7987,  1013,  1028,  2054,  8563,   103,\n",
            "         2055,  1045,  2572,  8025,  1011,  3756,  2003,   103,  2871,\n",
            "         2086,  3283,  1010,  2023,  2001,  2641, 26932,  1012,  2428,\n",
            "          103,  1996,  3348,  1998, 16371, 25469,   103,  2024,  2261,\n",
            "         1998,   103,  2090,   103,   103,  2059,  2009,  1005,  1055,\n",
            "         2025,  2915,  2066,  2070,   103,  2135,   103, 22555,  2080,\n",
            "         1012,  2096,   103,   103,  3549,   103,  2424,  2009, 16880,\n",
            "          103,  1999,  4507,  3348,  1998, 16371, 25469,  2024,  1037,\n",
            "         2350,   103,  1999,  4467,  5988,  1012,  2130, 13749,   103,\n",
            "        24544,  1010]])>, 'attention_mask': <tf.Tensor: shape=(2, 128), dtype=int32, numpy=\n",
            "array([[1, 1, 1, 1, 1, 1, 1, 1, 1, 1, 1, 1, 1, 1, 1, 1, 1, 1, 1, 1, 1, 1,\n",
            "        1, 1, 1, 1, 1, 1, 1, 1, 1, 1, 1, 1, 1, 1, 1, 1, 1, 1, 1, 1, 1, 1,\n",
            "        1, 1, 1, 1, 1, 1, 1, 1, 1, 1, 1, 1, 1, 1, 1, 1, 1, 1, 1, 1, 1, 1,\n",
            "        1, 1, 1, 1, 1, 1, 1, 1, 1, 1, 1, 1, 1, 1, 1, 1, 1, 1, 1, 1, 1, 1,\n",
            "        1, 1, 1, 1, 1, 1, 1, 1, 1, 1, 1, 1, 1, 1, 1, 1, 1, 1, 1, 1, 1, 1,\n",
            "        1, 1, 1, 1, 1, 1, 1, 1, 1, 1, 1, 1, 1, 1, 1, 1, 1, 1],\n",
            "       [1, 1, 1, 1, 1, 1, 1, 1, 1, 1, 1, 1, 1, 1, 1, 1, 1, 1, 1, 1, 1, 1,\n",
            "        1, 1, 1, 1, 1, 1, 1, 1, 1, 1, 1, 1, 1, 1, 1, 1, 1, 1, 1, 1, 1, 1,\n",
            "        1, 1, 1, 1, 1, 1, 1, 1, 1, 1, 1, 1, 1, 1, 1, 1, 1, 1, 1, 1, 1, 1,\n",
            "        1, 1, 1, 1, 1, 1, 1, 1, 1, 1, 1, 1, 1, 1, 1, 1, 1, 1, 1, 1, 1, 1,\n",
            "        1, 1, 1, 1, 1, 1, 1, 1, 1, 1, 1, 1, 1, 1, 1, 1, 1, 1, 1, 1, 1, 1,\n",
            "        1, 1, 1, 1, 1, 1, 1, 1, 1, 1, 1, 1, 1, 1, 1, 1, 1, 1]],\n",
            "      dtype=int32)>, 'labels': <tf.Tensor: shape=(2, 128), dtype=int64, numpy=\n",
            "array([[ -100,  -100,  -100,  -100,  -100,  -100,  -100,  -100,  -100,\n",
            "         -100,  -100,  -100,  2138,  -100,  -100,  -100,  -100,  -100,\n",
            "         -100,  2009,  -100,  -100,  2001,  -100,  -100,  1999,  3476,\n",
            "         -100,  -100,  -100,  -100,  -100,  2012,  2034,  -100,  -100,\n",
            "         8243,  -100,  -100,  -100,  -100,  1012,  -100,  -100,  -100,\n",
            "         -100,  -100,  2000,  -100,  -100,  -100,  -100,  -100,  -100,\n",
            "         -100,  -100,  -100,  -100,  -100,  1000,  -100,  1000,  -100,\n",
            "         -100,  -100,  2000,  -100,  -100,  -100,  2870,  -100,  -100,\n",
            "         -100,  -100,  -100,  -100,  -100,  -100,  -100,  -100,  -100,\n",
            "         -100,  8857,  -100,  -100,  -100,  -100,  -100,  -100,  -100,\n",
            "         -100,  -100,  -100,  -100,  -100,  -100,  -100,  -100,  2055,\n",
            "         -100,  -100,  -100,  -100,  -100,  -100,  -100,  -100,  -100,\n",
            "         -100,  -100,  2000,  -100,  -100,  -100,  -100,  -100,  -100,\n",
            "         -100,  -100,  -100,  -100,  -100,  -100,  -100,  -100,  -100,\n",
            "         -100,  -100],\n",
            "       [ -100,  -100,  -100,  -100,  -100,  -100,  3314,  -100,  -100,\n",
            "         -100,  -100,  -100,  -100,  -100,  -100,  8801,  -100,  -100,\n",
            "         -100,  -100,  -100,  1997,  -100,  -100,  -100,  -100,  -100,\n",
            "         -100,  1010,  -100,  -100,  -100,  -100,  -100,  -100,  -100,\n",
            "         -100,  -100,  1010,  -100,  -100,  -100,  -100,  -100,  -100,\n",
            "         -100,  -100,  -100,  -100,  -100,  -100,  -100,  -100,  2033,\n",
            "         -100,  -100,  -100,  -100,  -100,  -100,  -100,  2008,  -100,\n",
            "         -100,  -100,  -100,  -100,  -100,  -100,  -100,  -100,  -100,\n",
            "         1010,  -100,  -100,  1998,  -100,  -100,  5019,  -100,  -100,\n",
            "         -100,  2521,  -100,  1010,  2130,  -100,  -100,  -100,  -100,\n",
            "         -100,  -100,  -100,  -100, 10036,  -100,  2081,  -100,  -100,\n",
            "         -100,  -100,  2026,  2406,  -100,  2568,  -100,  -100,  -100,\n",
            "         1010,  -100,  -100,  -100,  -100,  -100,  -100,  -100,  -100,\n",
            "         -100, 18785,  -100,  -100,  -100,  -100,  -100,  -100,  7849,\n",
            "        24544,  -100]])>}\n",
            "[CLS] i rented i am curious - yellow from my video store because of all the controversy that surrounded it when it was first released in 1967. i also heard that at first it was seized by u. s. customs if it ever tried to enter this country, therefore being a fan of films considered \" controversial \" i really had to see this for myself. < br / > < br / > the plot is centered around a young swedish drama student named lena who wants to learn everything she can about life. in particular she wants to focus her attentions to making some sort of documentary on what the average swede thought about certain political issues such\n",
            "[CLS] i rented i am curious - yellow from [MASK] video store because of all the controversy [MASK] surrounded it when it was first released in 1967. i [MASK] heard [MASK] at [MASK] it was seized by u [MASK] s. customs if [MASK] ever tried to enter [MASK] country, therefore [MASK] [MASK] fan of films considered \" [MASK] \" i really had to see this for myself. < br / > < br / > the plot is centered around a young swedish drama student named lena who wants to learn everything she can about life. in particular she wants to focus her [MASK]s to making some sort of documentary on what the average swede thought about certain political issues such\n",
            "\n",
            "'>>> [CLS] i rented i am curious [MASK] [MASK] from my video store because of all the [MASK] that surrounded it [MASK] it was [MASK] released in 1967. [MASK] also heard that [MASK] [MASK] it [MASK] seized by [MASK]. s [MASK] customs if [MASK] ever tried [MASK] enter this country, therefore being [MASK] fan of films considered \" controversial \" [MASK] really had to see this for [MASK]. < br / > < [MASK] / > the plot is centered around a young swedish drama student named lena who wants to learn everything she can about life. in [MASK] she wants to focus her attentions to making some sort of documentary on what the average swede thought about certain political issues such'\n",
            "\n",
            "'>>> [MASK] the vietnam war [MASK] race issues in the united states. in [MASK] asking politicians [MASK] ordinary denizens [MASK] stockholm about their opinions on politics, she has sex with her drama teacher, classmates, and married men. < br / [MASK] < br / > what kills me about [MASK] am curious - yellow is [MASK] 40 years ago, [MASK] was considered pornographic. [MASK], the sex and nudity scenes are few and far between, even then it's not shot like some cheaply made porno. while my countrymen mind [MASK] it shocking, in reality sex and nudity are a major staple in swedish cinema. even ingmar bergman,'\n"
          ]
        }
      ]
    },
    {
      "cell_type": "markdown",
      "source": [
        "When training models for masked language modeling, one technique that can be used is to mask whole words together, not just individual tokens. This approach is called whole word masking."
      ],
      "metadata": {
        "id": "7jsRbCNjfNAD"
      }
    },
    {
      "cell_type": "code",
      "source": [
        "import collections\n",
        "import numpy as np\n",
        "\n",
        "from transformers import default_data_collator\n",
        "\n",
        "wwm_probability = 0.2\n",
        "\n",
        "\n",
        "def whole_word_masking_data_collator(features):\n",
        "    for feature in features:\n",
        "        word_ids = feature.pop(\"word_ids\")\n",
        "\n",
        "        # Create a map between words and corresponding token indices\n",
        "        mapping = collections.defaultdict(list)\n",
        "        current_word_index = -1\n",
        "        current_word = None\n",
        "        for idx, word_id in enumerate(word_ids):\n",
        "            if word_id is not None:\n",
        "                if word_id != current_word:\n",
        "                    current_word = word_id\n",
        "                    current_word_index += 1\n",
        "                mapping[current_word_index].append(idx)\n",
        "\n",
        "        # Randomly mask words\n",
        "        mask = np.random.binomial(1, wwm_probability, (len(mapping),))\n",
        "        input_ids = feature[\"input_ids\"]\n",
        "        labels = feature[\"labels\"]\n",
        "        new_labels = [-100] * len(labels)\n",
        "        for word_id in np.where(mask)[0]:\n",
        "            word_id = word_id.item()\n",
        "            for idx in mapping[word_id]:\n",
        "                new_labels[idx] = labels[idx]\n",
        "                input_ids[idx] = tokenizer.mask_token_id\n",
        "        feature[\"labels\"] = new_labels\n",
        "\n",
        "    return default_data_collator(features)"
      ],
      "metadata": {
        "id": "mDdH_SrSeqXS"
      },
      "execution_count": 27,
      "outputs": []
    },
    {
      "cell_type": "code",
      "source": [
        "samples = [lm_datasets[\"train\"][i] for i in range(2)]\n",
        "batch = whole_word_masking_data_collator(samples)\n",
        "\n",
        "for chunk in batch[\"input_ids\"]:\n",
        "    print(f\"\\n'>>> {tokenizer.decode(chunk)}'\")"
      ],
      "metadata": {
        "colab": {
          "base_uri": "https://localhost:8080/"
        },
        "id": "OIljiPKJev7e",
        "outputId": "78af09ef-5b6c-476e-b8cf-d1edcc94d759"
      },
      "execution_count": 28,
      "outputs": [
        {
          "output_type": "stream",
          "name": "stdout",
          "text": [
            "\n",
            "'>>> [CLS] [MASK] rented i [MASK] curious - yellow from my [MASK] store because of [MASK] the controversy that surrounded [MASK] [MASK] it was first [MASK] in [MASK]. i also heard that [MASK] first it was seized by u. s. [MASK] if it ever tried to enter this country [MASK] therefore being a fan [MASK] films considered \" controversial \" i really had to see this [MASK] myself. < br / > < br / > the [MASK] [MASK] centered around a young swedish [MASK] student [MASK] lena [MASK] wants to [MASK] everything she can about [MASK]. in [MASK] she [MASK] to focus her attentions [MASK] making some [MASK] of [MASK] [MASK] what the average swede thought about certain political issues such'\n",
            "\n",
            "'>>> as the [MASK] [MASK] and race issues in the united states. in between asking politicians and ordinary denizens of stockholm about their opinions on [MASK], she [MASK] sex with [MASK] drama teacher, classmates, and married [MASK]. < br / > [MASK] [MASK] / > what kills me about [MASK] am curious - [MASK] is that 40 years [MASK], this was [MASK] pornographic. really, the sex and nudity scenes [MASK] [MASK] and far between, even then it's not shot like some [MASK] [MASK] made [MASK] [MASK] [MASK] while my [MASK] [MASK] [MASK] [MASK] it shocking, [MASK] reality [MASK] and nudity are a major staple [MASK] swedish cinema. even ingmar bergman,'\n"
          ]
        }
      ]
    },
    {
      "cell_type": "markdown",
      "source": [
        "# Downsample Dataset"
      ],
      "metadata": {
        "id": "XKuHMZRthpkf"
      }
    },
    {
      "cell_type": "code",
      "source": [
        "train_size = 10_000\n",
        "test_size = int(0.1 * train_size)\n",
        "\n",
        "downsampled_dataset = lm_datasets[\"train\"].train_test_split(\n",
        "    train_size=train_size, test_size=test_size, seed=42\n",
        ")\n",
        "downsampled_dataset"
      ],
      "metadata": {
        "colab": {
          "base_uri": "https://localhost:8080/"
        },
        "id": "Sh7nAUBdhrjT",
        "outputId": "22d1f257-aee8-4138-a6ca-dd78b63cb55a"
      },
      "execution_count": 29,
      "outputs": [
        {
          "output_type": "execute_result",
          "data": {
            "text/plain": [
              "DatasetDict({\n",
              "    train: Dataset({\n",
              "        features: ['input_ids', 'attention_mask', 'word_ids', 'labels'],\n",
              "        num_rows: 10000\n",
              "    })\n",
              "    test: Dataset({\n",
              "        features: ['input_ids', 'attention_mask', 'word_ids', 'labels'],\n",
              "        num_rows: 1000\n",
              "    })\n",
              "})"
            ]
          },
          "metadata": {},
          "execution_count": 29
        }
      ]
    },
    {
      "cell_type": "code",
      "source": [
        "from huggingface_hub import notebook_login\n",
        "\n",
        "notebook_login()"
      ],
      "metadata": {
        "colab": {
          "base_uri": "https://localhost:8080/",
          "height": 145,
          "referenced_widgets": [
            "5d498b448b1c4446a6a42674c376ae68",
            "452263a782e14e24bcebdeca8e56101d",
            "dea79a4c51734cef87766803cf8b2dbe",
            "bf20b2418bfc4e559b8b6bc31539ac54",
            "c4c6375b76af4cb6ab033dc8630505ac",
            "a18fa94f6d054371adecbd7557b6e8aa",
            "21a3f0dc5bf8461dbad7b7099a3dc624",
            "3bc249aace70472aabeb1c018bc7e140",
            "8ea07d36326d44b595fa99958428cce0",
            "6a8dbe42ade94fa9ac7e3f3d46172528",
            "ef919d173eec438896ea324c5f478401",
            "c1c7993f47614ea7a92a4cdf35092409",
            "a9bc42857db041fb9fc719acd178e844",
            "91b566df5d684b7c8cc18ba0991e2b69",
            "be1aaeb979f6404bba01cf53dc1680ad",
            "a5b955a8799d42c898bf07a49ae39a5a",
            "e224138cc8a84c2d85dccf5498d735ad",
            "561fc25ddd204a3aa41d5d097194d2dc",
            "33d7cd92de9845169fd9619484b93622",
            "7f35a912b5594f54bc65828c98ad67f8",
            "c15895f1fa7140fc8cb1248ccb7d0917",
            "a0166a8dff894aa8b695771d1bbdaaf2",
            "fb92cc5ab6ff4d438e6bc23da8c24cc2",
            "926fb7724cd5408f9c599c16b25357f7",
            "8cb4ecc39064402b98eeab1d97211cc8",
            "190cc61dd9d7467ca6c70d355b9320f7",
            "1a62edcce40d4299b4b59e8fb540eadd",
            "d68623317b8c43b582cd8c5181106d63",
            "7a1a1b255bf344e5944a4d85c16b55c4",
            "c357758755624350bad62048f6e3f9b4",
            "3ef3f7268e844e8aa1f599316c2468bd",
            "154488b08c804d27b9cf2b7726de5b27"
          ]
        },
        "id": "I0JAjWhHh4HC",
        "outputId": "c1652d70-c154-4cb7-8039-4f7d971e4828"
      },
      "execution_count": 30,
      "outputs": [
        {
          "output_type": "display_data",
          "data": {
            "text/plain": [
              "VBox(children=(HTML(value='<center> <img\\nsrc=https://huggingface.co/front/assets/huggingface_logo-noborder.sv…"
            ],
            "application/vnd.jupyter.widget-view+json": {
              "version_major": 2,
              "version_minor": 0,
              "model_id": "5d498b448b1c4446a6a42674c376ae68"
            }
          },
          "metadata": {}
        }
      ]
    },
    {
      "cell_type": "markdown",
      "source": [
        "# Fine tuning using Trainer API"
      ],
      "metadata": {
        "id": "q8fAu1xPWoFo"
      }
    },
    {
      "cell_type": "code",
      "source": [
        "!pip install transformers[torch]"
      ],
      "metadata": {
        "id": "mOU66-sUmSWx"
      },
      "execution_count": null,
      "outputs": []
    },
    {
      "cell_type": "code",
      "source": [
        "!pip install accelerate>=0.20.1"
      ],
      "metadata": {
        "id": "cZY1KH65miAS"
      },
      "execution_count": 32,
      "outputs": []
    },
    {
      "cell_type": "code",
      "source": [
        "from transformers import TrainingArguments\n",
        "\n",
        "batch_size = 64\n",
        "# Show the training loss with every epoch\n",
        "logging_steps = len(downsampled_dataset[\"train\"]) // batch_size\n",
        "model_name = model_checkpoint.split(\"/\")[-1]\n",
        "\n",
        "training_args = TrainingArguments(\n",
        "    output_dir=f\"distilbert-finetuned-imdb\",\n",
        "    overwrite_output_dir=True,\n",
        "    evaluation_strategy=\"epoch\",\n",
        "    learning_rate=2e-5,\n",
        "    weight_decay=0.01,\n",
        "    per_device_train_batch_size=batch_size,\n",
        "    per_device_eval_batch_size=batch_size,\n",
        "    push_to_hub=True,\n",
        "    fp16=True,\n",
        "    logging_steps=logging_steps,\n",
        ")"
      ],
      "metadata": {
        "id": "3f97tWdyleMX"
      },
      "execution_count": 33,
      "outputs": []
    },
    {
      "cell_type": "markdown",
      "source": [
        "We are using standard collator and not whole word masking collator"
      ],
      "metadata": {
        "id": "L80wO_-hi9NB"
      }
    },
    {
      "cell_type": "code",
      "source": [
        "from transformers import Trainer\n",
        "\n",
        "trainer = Trainer(\n",
        "    model=model,\n",
        "    args=training_args,\n",
        "    train_dataset=downsampled_dataset[\"train\"],\n",
        "    eval_dataset=downsampled_dataset[\"test\"],\n",
        "    data_collator=data_collator,\n",
        "    tokenizer=tokenizer,\n",
        ")"
      ],
      "metadata": {
        "id": "_gjzWKOmigF7"
      },
      "execution_count": 34,
      "outputs": []
    },
    {
      "cell_type": "markdown",
      "source": [
        "perplexity is a common metric to evaluate the performance of language models. we can calculate the perplexity of our pretrained model by using the Trainer.evaluate() function to compute the cross-entropy loss on the test set and then taking the exponential of the result\n",
        "\n",
        "A lower perplexity score means a better language model"
      ],
      "metadata": {
        "id": "zbsow7vYjG7I"
      }
    },
    {
      "cell_type": "code",
      "source": [
        "trainer.push_to_hub()"
      ],
      "metadata": {
        "colab": {
          "base_uri": "https://localhost:8080/",
          "height": 131,
          "referenced_widgets": [
            "765222fc717b414c94e27d441b837c4e",
            "5b4375d298bc41a6889723b59eb2ec85",
            "58e8ec39504e46538903b79d08b4f3fd",
            "76cc850817024ff69625fac62e4f1205",
            "5ee1506db8454fa8bcdadc830117bd91",
            "4123ee26af6c4c339c627866e57061a6",
            "6305a2845605457dae2122c66db73b5e",
            "0342450c72bb4c9d84f72b5becfdd67d",
            "7d4b11ef1d8b490d8b599d3213cb7d3a",
            "ff4f276f64cf4ccc8f80fc2b04ff02ec",
            "37932f3c35a1436493fe0a0e56b943a9",
            "52fcf47c4e4e4bee8ed30163342c8ab7",
            "9aea7aa6a5e24b02afc445495f790de8",
            "b39a3974af84413197dd11c9269ee341",
            "daad206be263439789a65f9bccf33812",
            "00ff475144da4c379b653c782f1870f2",
            "4f347b9b17bc429f9f32a62f4be4d906",
            "a580c0e0226d4d2280b82989aa77c1b2",
            "182edee84ad84b2ba8ba76c22942b907",
            "d85766be68c848d5866e5b5571b8a2a2",
            "0a3198ac9fb44fec9a4e59e49ece7b51",
            "f89a740c32584c71b4c53c768b7d272c",
            "6feb57ffb86341a8a47211942e8085a6",
            "1bbee72fa3d5410d9fe41e735c453a14",
            "ec764cfbfb7c433aa5469a038ddb4f5f",
            "d5fdef0ad58b456a97dc369cd4bdabf9",
            "dfeb9de5a2d04c1ca037674269005dae",
            "bd8e2d7dc6474f7387fa3f409acdebc6",
            "95327b65eb154b31b30e3f4008ba4129",
            "99157c182af24e85b9e5d50cdbc02f66",
            "c23443eb874f48638bd85d514b64afc8",
            "212ec21ee34d43a28659fc0041322f3a",
            "21282a76524f4f7293f0c06ca8472f5c"
          ]
        },
        "id": "FOooAbrBkJ1U",
        "outputId": "734bfac4-da15-4565-b78a-6fe37959abf8"
      },
      "execution_count": 36,
      "outputs": [
        {
          "output_type": "display_data",
          "data": {
            "text/plain": [
              "Upload 2 LFS files:   0%|          | 0/2 [00:00<?, ?it/s]"
            ],
            "application/vnd.jupyter.widget-view+json": {
              "version_major": 2,
              "version_minor": 0,
              "model_id": "765222fc717b414c94e27d441b837c4e"
            }
          },
          "metadata": {}
        },
        {
          "output_type": "display_data",
          "data": {
            "text/plain": [
              "training_args.bin:   0%|          | 0.00/4.60k [00:00<?, ?B/s]"
            ],
            "application/vnd.jupyter.widget-view+json": {
              "version_major": 2,
              "version_minor": 0,
              "model_id": "52fcf47c4e4e4bee8ed30163342c8ab7"
            }
          },
          "metadata": {}
        },
        {
          "output_type": "display_data",
          "data": {
            "text/plain": [
              "model.safetensors:   0%|          | 0.00/268M [00:00<?, ?B/s]"
            ],
            "application/vnd.jupyter.widget-view+json": {
              "version_major": 2,
              "version_minor": 0,
              "model_id": "6feb57ffb86341a8a47211942e8085a6"
            }
          },
          "metadata": {}
        },
        {
          "output_type": "execute_result",
          "data": {
            "text/plain": [
              "'https://huggingface.co/neural-net-rahul/distilbert-finetuned-imdb/tree/main/'"
            ],
            "application/vnd.google.colaboratory.intrinsic+json": {
              "type": "string"
            }
          },
          "metadata": {},
          "execution_count": 36
        }
      ]
    },
    {
      "cell_type": "markdown",
      "source": [
        "Remember it is fine tuned on imdb movies dataset, so masked values will be similar to that only."
      ],
      "metadata": {
        "id": "3ngghJ4zpt03"
      }
    },
    {
      "cell_type": "code",
      "source": [
        "from transformers import pipeline\n",
        "\n",
        "mask_filler = pipeline(\n",
        "    \"fill-mask\", model=\"neural-net-rahul/distilbert-finetuned-imdb\"\n",
        ")"
      ],
      "metadata": {
        "id": "K6u4kZ4KqEQA"
      },
      "execution_count": 45,
      "outputs": []
    },
    {
      "cell_type": "markdown",
      "source": [
        "# Prediction 1"
      ],
      "metadata": {
        "id": "_At1Sz1cpqqH"
      }
    },
    {
      "cell_type": "code",
      "source": [
        "text = \"This is a great [MASK]\"\n",
        "preds = mask_filler(text)\n",
        "\n",
        "for pred in preds:\n",
        "    print(f\">>> {pred['sequence']}\")"
      ],
      "metadata": {
        "colab": {
          "base_uri": "https://localhost:8080/"
        },
        "id": "k-uFFS_Wpi2E",
        "outputId": "32e63ccb-e44d-436c-cfa1-f002cbd7c6c3"
      },
      "execution_count": 46,
      "outputs": [
        {
          "output_type": "stream",
          "name": "stdout",
          "text": [
            ">>> this is a great!\n",
            ">>> this is a great.\n",
            ">>> this is a great deal\n",
            ">>> this is a great adventure\n",
            ">>> this is a great ;\n"
          ]
        }
      ]
    },
    {
      "cell_type": "markdown",
      "source": [
        "# Prediction 2"
      ],
      "metadata": {
        "id": "s0VEMixityKS"
      }
    },
    {
      "cell_type": "code",
      "source": [
        "text = \"A gang leader tries to keep a [MASK] made to his dying friend and takes on the other criminal gangs\"\n",
        "preds = mask_filler(text)\n",
        "\n",
        "for pred in preds:\n",
        "    print(f\">>> {pred['sequence']}\")\n",
        "# Expected -> promise"
      ],
      "metadata": {
        "colab": {
          "base_uri": "https://localhost:8080/"
        },
        "id": "drlJ_Dikt0H4",
        "outputId": "481c6aa7-86e4-4369-b6fc-fdd9f5b00530"
      },
      "execution_count": 49,
      "outputs": [
        {
          "output_type": "stream",
          "name": "stdout",
          "text": [
            ">>> a gang leader tries to keep a promise made to his dying friend and takes on the other criminal gangs\n",
            ">>> a gang leader tries to keep a confession made to his dying friend and takes on the other criminal gangs\n",
            ">>> a gang leader tries to keep a vow made to his dying friend and takes on the other criminal gangs\n",
            ">>> a gang leader tries to keep a note made to his dying friend and takes on the other criminal gangs\n",
            ">>> a gang leader tries to keep a commitment made to his dying friend and takes on the other criminal gangs\n"
          ]
        }
      ]
    }
  ]
}